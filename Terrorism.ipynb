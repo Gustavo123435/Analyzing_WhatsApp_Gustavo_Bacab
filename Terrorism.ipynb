{
  "nbformat": 4,
  "nbformat_minor": 0,
  "metadata": {
    "kernelspec": {
      "display_name": "Python 3",
      "language": "python",
      "name": "python3"
    },
    "language_info": {
      "codemirror_mode": {
        "name": "ipython",
        "version": 3
      },
      "file_extension": ".py",
      "mimetype": "text/x-python",
      "name": "python",
      "nbconvert_exporter": "python",
      "pygments_lexer": "ipython3",
      "version": "3.8.3"
    },
    "colab": {
      "name": "Terrorism.ipynb",
      "provenance": []
    }
  },
  "cells": [
    {
      "cell_type": "code",
      "metadata": {
        "id": "1rRWZ0j1dgEW"
      },
      "source": [
        "# Libraries\n",
        "# import zipfile\n",
        "import numpy as np\n",
        "import pandas as pd\n",
        "import seaborn as sns\n",
        "import matplotlib.pyplot as plt"
      ],
      "execution_count": null,
      "outputs": []
    },
    {
      "cell_type": "code",
      "metadata": {
        "colab": {
          "base_uri": "https://localhost:8080/"
        },
        "id": "CjEisp3Xeg8H",
        "outputId": "0ced66a5-71e9-4878-aac0-6bc57a058ab6"
      },
      "source": [
        "from google.colab import drive\n",
        "drive.mount('/content/drive')"
      ],
      "execution_count": null,
      "outputs": [
        {
          "output_type": "stream",
          "text": [
            "Drive already mounted at /content/drive; to attempt to forcibly remount, call drive.mount(\"/content/drive\", force_remount=True).\n"
          ],
          "name": "stdout"
        }
      ]
    },
    {
      "cell_type": "markdown",
      "metadata": {
        "id": "PGtEQWELdgEW"
      },
      "source": [
        "# Unzip file"
      ]
    },
    {
      "cell_type": "code",
      "metadata": {
        "colab": {
          "base_uri": "https://localhost:8080/",
          "height": 429
        },
        "id": "yQRlbbJgdgEW",
        "outputId": "5b0aa23d-648c-48d7-b91f-e98dc69e44e9"
      },
      "source": [
        "data = pd.read_csv(\"/content/drive/MyDrive/Colab Notebooks/Files/globalterrorism.csv\")\n",
        "display(data.head())\n",
        "print(data.shape)"
      ],
      "execution_count": null,
      "outputs": [
        {
          "output_type": "stream",
          "text": [
            "/usr/local/lib/python3.6/dist-packages/IPython/core/interactiveshell.py:2718: DtypeWarning: Columns (4,6,31,33,61,62,63,76,79,90,92,94,96,114,115,121) have mixed types.Specify dtype option on import or set low_memory=False.\n",
            "  interactivity=interactivity, compiler=compiler, result=result)\n"
          ],
          "name": "stderr"
        },
        {
          "output_type": "display_data",
          "data": {
            "text/html": [
              "<div>\n",
              "<style scoped>\n",
              "    .dataframe tbody tr th:only-of-type {\n",
              "        vertical-align: middle;\n",
              "    }\n",
              "\n",
              "    .dataframe tbody tr th {\n",
              "        vertical-align: top;\n",
              "    }\n",
              "\n",
              "    .dataframe thead th {\n",
              "        text-align: right;\n",
              "    }\n",
              "</style>\n",
              "<table border=\"1\" class=\"dataframe\">\n",
              "  <thead>\n",
              "    <tr style=\"text-align: right;\">\n",
              "      <th></th>\n",
              "      <th>eventid</th>\n",
              "      <th>iyear</th>\n",
              "      <th>imonth</th>\n",
              "      <th>iday</th>\n",
              "      <th>approxdate</th>\n",
              "      <th>extended</th>\n",
              "      <th>resolution</th>\n",
              "      <th>country</th>\n",
              "      <th>country_txt</th>\n",
              "      <th>region</th>\n",
              "      <th>region_txt</th>\n",
              "      <th>provstate</th>\n",
              "      <th>city</th>\n",
              "      <th>latitude</th>\n",
              "      <th>longitude</th>\n",
              "      <th>specificity</th>\n",
              "      <th>vicinity</th>\n",
              "      <th>location</th>\n",
              "      <th>summary</th>\n",
              "      <th>crit1</th>\n",
              "      <th>crit2</th>\n",
              "      <th>crit3</th>\n",
              "      <th>doubtterr</th>\n",
              "      <th>alternative</th>\n",
              "      <th>alternative_txt</th>\n",
              "      <th>multiple</th>\n",
              "      <th>success</th>\n",
              "      <th>suicide</th>\n",
              "      <th>attacktype1</th>\n",
              "      <th>attacktype1_txt</th>\n",
              "      <th>attacktype2</th>\n",
              "      <th>attacktype2_txt</th>\n",
              "      <th>attacktype3</th>\n",
              "      <th>attacktype3_txt</th>\n",
              "      <th>targtype1</th>\n",
              "      <th>targtype1_txt</th>\n",
              "      <th>targsubtype1</th>\n",
              "      <th>targsubtype1_txt</th>\n",
              "      <th>corp1</th>\n",
              "      <th>target1</th>\n",
              "      <th>...</th>\n",
              "      <th>weapsubtype4</th>\n",
              "      <th>weapsubtype4_txt</th>\n",
              "      <th>weapdetail</th>\n",
              "      <th>nkill</th>\n",
              "      <th>nkillus</th>\n",
              "      <th>nkillter</th>\n",
              "      <th>nwound</th>\n",
              "      <th>nwoundus</th>\n",
              "      <th>nwoundte</th>\n",
              "      <th>property</th>\n",
              "      <th>propextent</th>\n",
              "      <th>propextent_txt</th>\n",
              "      <th>propvalue</th>\n",
              "      <th>propcomment</th>\n",
              "      <th>ishostkid</th>\n",
              "      <th>nhostkid</th>\n",
              "      <th>nhostkidus</th>\n",
              "      <th>nhours</th>\n",
              "      <th>ndays</th>\n",
              "      <th>divert</th>\n",
              "      <th>kidhijcountry</th>\n",
              "      <th>ransom</th>\n",
              "      <th>ransomamt</th>\n",
              "      <th>ransomamtus</th>\n",
              "      <th>ransompaid</th>\n",
              "      <th>ransompaidus</th>\n",
              "      <th>ransomnote</th>\n",
              "      <th>hostkidoutcome</th>\n",
              "      <th>hostkidoutcome_txt</th>\n",
              "      <th>nreleased</th>\n",
              "      <th>addnotes</th>\n",
              "      <th>scite1</th>\n",
              "      <th>scite2</th>\n",
              "      <th>scite3</th>\n",
              "      <th>dbsource</th>\n",
              "      <th>INT_LOG</th>\n",
              "      <th>INT_IDEO</th>\n",
              "      <th>INT_MISC</th>\n",
              "      <th>INT_ANY</th>\n",
              "      <th>related</th>\n",
              "    </tr>\n",
              "  </thead>\n",
              "  <tbody>\n",
              "    <tr>\n",
              "      <th>0</th>\n",
              "      <td>1.970000e+11</td>\n",
              "      <td>1970</td>\n",
              "      <td>7</td>\n",
              "      <td>2</td>\n",
              "      <td>NaN</td>\n",
              "      <td>0</td>\n",
              "      <td>NaN</td>\n",
              "      <td>58</td>\n",
              "      <td>Dominican Republic</td>\n",
              "      <td>2</td>\n",
              "      <td>Central America &amp; Caribbean</td>\n",
              "      <td>NaN</td>\n",
              "      <td>Santo Domingo</td>\n",
              "      <td>18.456792</td>\n",
              "      <td>-69.951164</td>\n",
              "      <td>1.0</td>\n",
              "      <td>0</td>\n",
              "      <td>NaN</td>\n",
              "      <td>NaN</td>\n",
              "      <td>1</td>\n",
              "      <td>1</td>\n",
              "      <td>1</td>\n",
              "      <td>0.0</td>\n",
              "      <td>NaN</td>\n",
              "      <td>NaN</td>\n",
              "      <td>0.0</td>\n",
              "      <td>1</td>\n",
              "      <td>0</td>\n",
              "      <td>1</td>\n",
              "      <td>Assassination</td>\n",
              "      <td>NaN</td>\n",
              "      <td>NaN</td>\n",
              "      <td>NaN</td>\n",
              "      <td>NaN</td>\n",
              "      <td>14</td>\n",
              "      <td>Private Citizens &amp; Property</td>\n",
              "      <td>68.0</td>\n",
              "      <td>Named Civilian</td>\n",
              "      <td>NaN</td>\n",
              "      <td>Julio Guzman</td>\n",
              "      <td>...</td>\n",
              "      <td>NaN</td>\n",
              "      <td>NaN</td>\n",
              "      <td>NaN</td>\n",
              "      <td>1.0</td>\n",
              "      <td>NaN</td>\n",
              "      <td>NaN</td>\n",
              "      <td>0.0</td>\n",
              "      <td>NaN</td>\n",
              "      <td>NaN</td>\n",
              "      <td>0</td>\n",
              "      <td>NaN</td>\n",
              "      <td>NaN</td>\n",
              "      <td>NaN</td>\n",
              "      <td>NaN</td>\n",
              "      <td>0.0</td>\n",
              "      <td>NaN</td>\n",
              "      <td>NaN</td>\n",
              "      <td>NaN</td>\n",
              "      <td>NaN</td>\n",
              "      <td>NaN</td>\n",
              "      <td>NaN</td>\n",
              "      <td>0.0</td>\n",
              "      <td>NaN</td>\n",
              "      <td>NaN</td>\n",
              "      <td>NaN</td>\n",
              "      <td>NaN</td>\n",
              "      <td>NaN</td>\n",
              "      <td>NaN</td>\n",
              "      <td>NaN</td>\n",
              "      <td>NaN</td>\n",
              "      <td>NaN</td>\n",
              "      <td>NaN</td>\n",
              "      <td>NaN</td>\n",
              "      <td>NaN</td>\n",
              "      <td>PGIS</td>\n",
              "      <td>0</td>\n",
              "      <td>0</td>\n",
              "      <td>0</td>\n",
              "      <td>0</td>\n",
              "      <td>NaN</td>\n",
              "    </tr>\n",
              "    <tr>\n",
              "      <th>1</th>\n",
              "      <td>1.970000e+11</td>\n",
              "      <td>1970</td>\n",
              "      <td>0</td>\n",
              "      <td>0</td>\n",
              "      <td>NaN</td>\n",
              "      <td>0</td>\n",
              "      <td>NaN</td>\n",
              "      <td>130</td>\n",
              "      <td>Mexico</td>\n",
              "      <td>1</td>\n",
              "      <td>North America</td>\n",
              "      <td>Federal</td>\n",
              "      <td>Mexico city</td>\n",
              "      <td>19.371887</td>\n",
              "      <td>-99.086624</td>\n",
              "      <td>1.0</td>\n",
              "      <td>0</td>\n",
              "      <td>NaN</td>\n",
              "      <td>NaN</td>\n",
              "      <td>1</td>\n",
              "      <td>1</td>\n",
              "      <td>1</td>\n",
              "      <td>0.0</td>\n",
              "      <td>NaN</td>\n",
              "      <td>NaN</td>\n",
              "      <td>0.0</td>\n",
              "      <td>1</td>\n",
              "      <td>0</td>\n",
              "      <td>6</td>\n",
              "      <td>Hostage Taking (Kidnapping)</td>\n",
              "      <td>NaN</td>\n",
              "      <td>NaN</td>\n",
              "      <td>NaN</td>\n",
              "      <td>NaN</td>\n",
              "      <td>7</td>\n",
              "      <td>Government (Diplomatic)</td>\n",
              "      <td>45.0</td>\n",
              "      <td>Diplomatic Personnel (outside of embassy, cons...</td>\n",
              "      <td>Belgian Ambassador Daughter</td>\n",
              "      <td>Nadine Chaval, daughter</td>\n",
              "      <td>...</td>\n",
              "      <td>NaN</td>\n",
              "      <td>NaN</td>\n",
              "      <td>NaN</td>\n",
              "      <td>0.0</td>\n",
              "      <td>NaN</td>\n",
              "      <td>NaN</td>\n",
              "      <td>0.0</td>\n",
              "      <td>NaN</td>\n",
              "      <td>NaN</td>\n",
              "      <td>0</td>\n",
              "      <td>NaN</td>\n",
              "      <td>NaN</td>\n",
              "      <td>NaN</td>\n",
              "      <td>NaN</td>\n",
              "      <td>1.0</td>\n",
              "      <td>1.0</td>\n",
              "      <td>0.0</td>\n",
              "      <td>NaN</td>\n",
              "      <td>NaN</td>\n",
              "      <td>NaN</td>\n",
              "      <td>Mexico</td>\n",
              "      <td>1.0</td>\n",
              "      <td>800000.0</td>\n",
              "      <td>NaN</td>\n",
              "      <td>NaN</td>\n",
              "      <td>NaN</td>\n",
              "      <td>NaN</td>\n",
              "      <td>NaN</td>\n",
              "      <td>NaN</td>\n",
              "      <td>NaN</td>\n",
              "      <td>NaN</td>\n",
              "      <td>NaN</td>\n",
              "      <td>NaN</td>\n",
              "      <td>NaN</td>\n",
              "      <td>PGIS</td>\n",
              "      <td>0</td>\n",
              "      <td>1</td>\n",
              "      <td>1</td>\n",
              "      <td>1</td>\n",
              "      <td>NaN</td>\n",
              "    </tr>\n",
              "    <tr>\n",
              "      <th>2</th>\n",
              "      <td>1.970010e+11</td>\n",
              "      <td>1970</td>\n",
              "      <td>1</td>\n",
              "      <td>0</td>\n",
              "      <td>NaN</td>\n",
              "      <td>0</td>\n",
              "      <td>NaN</td>\n",
              "      <td>160</td>\n",
              "      <td>Philippines</td>\n",
              "      <td>5</td>\n",
              "      <td>Southeast Asia</td>\n",
              "      <td>Tarlac</td>\n",
              "      <td>Unknown</td>\n",
              "      <td>15.478598</td>\n",
              "      <td>120.599741</td>\n",
              "      <td>4.0</td>\n",
              "      <td>0</td>\n",
              "      <td>NaN</td>\n",
              "      <td>NaN</td>\n",
              "      <td>1</td>\n",
              "      <td>1</td>\n",
              "      <td>1</td>\n",
              "      <td>0.0</td>\n",
              "      <td>NaN</td>\n",
              "      <td>NaN</td>\n",
              "      <td>0.0</td>\n",
              "      <td>1</td>\n",
              "      <td>0</td>\n",
              "      <td>1</td>\n",
              "      <td>Assassination</td>\n",
              "      <td>NaN</td>\n",
              "      <td>NaN</td>\n",
              "      <td>NaN</td>\n",
              "      <td>NaN</td>\n",
              "      <td>10</td>\n",
              "      <td>Journalists &amp; Media</td>\n",
              "      <td>54.0</td>\n",
              "      <td>Radio Journalist/Staff/Facility</td>\n",
              "      <td>Voice of America</td>\n",
              "      <td>Employee</td>\n",
              "      <td>...</td>\n",
              "      <td>NaN</td>\n",
              "      <td>NaN</td>\n",
              "      <td>NaN</td>\n",
              "      <td>1.0</td>\n",
              "      <td>NaN</td>\n",
              "      <td>NaN</td>\n",
              "      <td>0.0</td>\n",
              "      <td>NaN</td>\n",
              "      <td>NaN</td>\n",
              "      <td>0</td>\n",
              "      <td>NaN</td>\n",
              "      <td>NaN</td>\n",
              "      <td>NaN</td>\n",
              "      <td>NaN</td>\n",
              "      <td>0.0</td>\n",
              "      <td>NaN</td>\n",
              "      <td>NaN</td>\n",
              "      <td>NaN</td>\n",
              "      <td>NaN</td>\n",
              "      <td>NaN</td>\n",
              "      <td>NaN</td>\n",
              "      <td>0.0</td>\n",
              "      <td>NaN</td>\n",
              "      <td>NaN</td>\n",
              "      <td>NaN</td>\n",
              "      <td>NaN</td>\n",
              "      <td>NaN</td>\n",
              "      <td>NaN</td>\n",
              "      <td>NaN</td>\n",
              "      <td>NaN</td>\n",
              "      <td>NaN</td>\n",
              "      <td>NaN</td>\n",
              "      <td>NaN</td>\n",
              "      <td>NaN</td>\n",
              "      <td>PGIS</td>\n",
              "      <td>-9</td>\n",
              "      <td>-9</td>\n",
              "      <td>1</td>\n",
              "      <td>1</td>\n",
              "      <td>NaN</td>\n",
              "    </tr>\n",
              "    <tr>\n",
              "      <th>3</th>\n",
              "      <td>1.970010e+11</td>\n",
              "      <td>1970</td>\n",
              "      <td>1</td>\n",
              "      <td>0</td>\n",
              "      <td>NaN</td>\n",
              "      <td>0</td>\n",
              "      <td>NaN</td>\n",
              "      <td>78</td>\n",
              "      <td>Greece</td>\n",
              "      <td>8</td>\n",
              "      <td>Western Europe</td>\n",
              "      <td>Attica</td>\n",
              "      <td>Athens</td>\n",
              "      <td>37.997490</td>\n",
              "      <td>23.762728</td>\n",
              "      <td>1.0</td>\n",
              "      <td>0</td>\n",
              "      <td>NaN</td>\n",
              "      <td>NaN</td>\n",
              "      <td>1</td>\n",
              "      <td>1</td>\n",
              "      <td>1</td>\n",
              "      <td>0.0</td>\n",
              "      <td>NaN</td>\n",
              "      <td>NaN</td>\n",
              "      <td>0.0</td>\n",
              "      <td>1</td>\n",
              "      <td>0</td>\n",
              "      <td>3</td>\n",
              "      <td>Bombing/Explosion</td>\n",
              "      <td>NaN</td>\n",
              "      <td>NaN</td>\n",
              "      <td>NaN</td>\n",
              "      <td>NaN</td>\n",
              "      <td>7</td>\n",
              "      <td>Government (Diplomatic)</td>\n",
              "      <td>46.0</td>\n",
              "      <td>Embassy/Consulate</td>\n",
              "      <td>NaN</td>\n",
              "      <td>U.S. Embassy</td>\n",
              "      <td>...</td>\n",
              "      <td>NaN</td>\n",
              "      <td>NaN</td>\n",
              "      <td>Explosive</td>\n",
              "      <td>NaN</td>\n",
              "      <td>NaN</td>\n",
              "      <td>NaN</td>\n",
              "      <td>NaN</td>\n",
              "      <td>NaN</td>\n",
              "      <td>NaN</td>\n",
              "      <td>1</td>\n",
              "      <td>NaN</td>\n",
              "      <td>NaN</td>\n",
              "      <td>NaN</td>\n",
              "      <td>NaN</td>\n",
              "      <td>0.0</td>\n",
              "      <td>NaN</td>\n",
              "      <td>NaN</td>\n",
              "      <td>NaN</td>\n",
              "      <td>NaN</td>\n",
              "      <td>NaN</td>\n",
              "      <td>NaN</td>\n",
              "      <td>0.0</td>\n",
              "      <td>NaN</td>\n",
              "      <td>NaN</td>\n",
              "      <td>NaN</td>\n",
              "      <td>NaN</td>\n",
              "      <td>NaN</td>\n",
              "      <td>NaN</td>\n",
              "      <td>NaN</td>\n",
              "      <td>NaN</td>\n",
              "      <td>NaN</td>\n",
              "      <td>NaN</td>\n",
              "      <td>NaN</td>\n",
              "      <td>NaN</td>\n",
              "      <td>PGIS</td>\n",
              "      <td>-9</td>\n",
              "      <td>-9</td>\n",
              "      <td>1</td>\n",
              "      <td>1</td>\n",
              "      <td>NaN</td>\n",
              "    </tr>\n",
              "    <tr>\n",
              "      <th>4</th>\n",
              "      <td>1.970010e+11</td>\n",
              "      <td>1970</td>\n",
              "      <td>1</td>\n",
              "      <td>0</td>\n",
              "      <td>NaN</td>\n",
              "      <td>0</td>\n",
              "      <td>NaN</td>\n",
              "      <td>101</td>\n",
              "      <td>Japan</td>\n",
              "      <td>4</td>\n",
              "      <td>East Asia</td>\n",
              "      <td>Fukouka</td>\n",
              "      <td>Fukouka</td>\n",
              "      <td>33.580412</td>\n",
              "      <td>130.396361</td>\n",
              "      <td>1.0</td>\n",
              "      <td>0</td>\n",
              "      <td>NaN</td>\n",
              "      <td>NaN</td>\n",
              "      <td>1</td>\n",
              "      <td>1</td>\n",
              "      <td>1</td>\n",
              "      <td>-9.0</td>\n",
              "      <td>NaN</td>\n",
              "      <td>NaN</td>\n",
              "      <td>0.0</td>\n",
              "      <td>1</td>\n",
              "      <td>0</td>\n",
              "      <td>7</td>\n",
              "      <td>Facility/Infrastructure Attack</td>\n",
              "      <td>NaN</td>\n",
              "      <td>NaN</td>\n",
              "      <td>NaN</td>\n",
              "      <td>NaN</td>\n",
              "      <td>7</td>\n",
              "      <td>Government (Diplomatic)</td>\n",
              "      <td>46.0</td>\n",
              "      <td>Embassy/Consulate</td>\n",
              "      <td>NaN</td>\n",
              "      <td>U.S. Consulate</td>\n",
              "      <td>...</td>\n",
              "      <td>NaN</td>\n",
              "      <td>NaN</td>\n",
              "      <td>Incendiary</td>\n",
              "      <td>NaN</td>\n",
              "      <td>NaN</td>\n",
              "      <td>NaN</td>\n",
              "      <td>NaN</td>\n",
              "      <td>NaN</td>\n",
              "      <td>NaN</td>\n",
              "      <td>1</td>\n",
              "      <td>NaN</td>\n",
              "      <td>NaN</td>\n",
              "      <td>NaN</td>\n",
              "      <td>NaN</td>\n",
              "      <td>0.0</td>\n",
              "      <td>NaN</td>\n",
              "      <td>NaN</td>\n",
              "      <td>NaN</td>\n",
              "      <td>NaN</td>\n",
              "      <td>NaN</td>\n",
              "      <td>NaN</td>\n",
              "      <td>0.0</td>\n",
              "      <td>NaN</td>\n",
              "      <td>NaN</td>\n",
              "      <td>NaN</td>\n",
              "      <td>NaN</td>\n",
              "      <td>NaN</td>\n",
              "      <td>NaN</td>\n",
              "      <td>NaN</td>\n",
              "      <td>NaN</td>\n",
              "      <td>NaN</td>\n",
              "      <td>NaN</td>\n",
              "      <td>NaN</td>\n",
              "      <td>NaN</td>\n",
              "      <td>PGIS</td>\n",
              "      <td>-9</td>\n",
              "      <td>-9</td>\n",
              "      <td>1</td>\n",
              "      <td>1</td>\n",
              "      <td>NaN</td>\n",
              "    </tr>\n",
              "  </tbody>\n",
              "</table>\n",
              "<p>5 rows × 135 columns</p>\n",
              "</div>"
            ],
            "text/plain": [
              "        eventid  iyear  imonth  iday  ... INT_IDEO  INT_MISC INT_ANY  related\n",
              "0  1.970000e+11   1970       7     2  ...        0         0       0      NaN\n",
              "1  1.970000e+11   1970       0     0  ...        1         1       1      NaN\n",
              "2  1.970010e+11   1970       1     0  ...       -9         1       1      NaN\n",
              "3  1.970010e+11   1970       1     0  ...       -9         1       1      NaN\n",
              "4  1.970010e+11   1970       1     0  ...       -9         1       1      NaN\n",
              "\n",
              "[5 rows x 135 columns]"
            ]
          },
          "metadata": {
            "tags": []
          }
        },
        {
          "output_type": "stream",
          "text": [
            "(181691, 135)\n"
          ],
          "name": "stdout"
        }
      ]
    },
    {
      "cell_type": "code",
      "metadata": {
        "colab": {
          "base_uri": "https://localhost:8080/"
        },
        "id": "qxzvhA5rdgEY",
        "outputId": "c45cba91-7ba0-40e0-92ad-c93a8b75b951"
      },
      "source": [
        "data.region_txt.unique().tolist()"
      ],
      "execution_count": null,
      "outputs": [
        {
          "output_type": "execute_result",
          "data": {
            "text/plain": [
              "['Central America & Caribbean',\n",
              " 'North America',\n",
              " 'Southeast Asia',\n",
              " 'Western Europe',\n",
              " 'East Asia',\n",
              " 'South America',\n",
              " 'Eastern Europe',\n",
              " 'Sub-Saharan Africa',\n",
              " 'Middle East & North Africa',\n",
              " 'Australasia & Oceania',\n",
              " 'South Asia',\n",
              " 'Central Asia']"
            ]
          },
          "metadata": {
            "tags": []
          },
          "execution_count": 41
        }
      ]
    },
    {
      "cell_type": "code",
      "metadata": {
        "colab": {
          "base_uri": "https://localhost:8080/",
          "height": 285
        },
        "id": "YyvtlPJudgEZ",
        "outputId": "555a0634-145e-4209-a3f5-c9c446836ab9"
      },
      "source": [
        "# select column we want to use \n",
        "data = data[[\"iyear\", \"imonth\", \"iday\", \"country\", \"country_txt\", \"region\", \"region_txt\", \"city\", \"success\", \"suicide\",\n",
        "             \"attacktype1\", \"attacktype1_txt\", \"targtype1\", \"targtype1_txt\", \"corp1\", \"natlty1\", \"natlty1_txt\", \"gname\",\n",
        "             \"motive\", \"nperps\", \"weaptype1\", \"weaptype1_txt\", \"nkill\"]]\n",
        "\n",
        "print(data.shape)\n",
        "display(data.head(3))"
      ],
      "execution_count": null,
      "outputs": [
        {
          "output_type": "stream",
          "text": [
            "(181691, 23)\n"
          ],
          "name": "stdout"
        },
        {
          "output_type": "display_data",
          "data": {
            "text/html": [
              "<div>\n",
              "<style scoped>\n",
              "    .dataframe tbody tr th:only-of-type {\n",
              "        vertical-align: middle;\n",
              "    }\n",
              "\n",
              "    .dataframe tbody tr th {\n",
              "        vertical-align: top;\n",
              "    }\n",
              "\n",
              "    .dataframe thead th {\n",
              "        text-align: right;\n",
              "    }\n",
              "</style>\n",
              "<table border=\"1\" class=\"dataframe\">\n",
              "  <thead>\n",
              "    <tr style=\"text-align: right;\">\n",
              "      <th></th>\n",
              "      <th>iyear</th>\n",
              "      <th>imonth</th>\n",
              "      <th>iday</th>\n",
              "      <th>country</th>\n",
              "      <th>country_txt</th>\n",
              "      <th>region</th>\n",
              "      <th>region_txt</th>\n",
              "      <th>city</th>\n",
              "      <th>success</th>\n",
              "      <th>suicide</th>\n",
              "      <th>attacktype1</th>\n",
              "      <th>attacktype1_txt</th>\n",
              "      <th>targtype1</th>\n",
              "      <th>targtype1_txt</th>\n",
              "      <th>corp1</th>\n",
              "      <th>natlty1</th>\n",
              "      <th>natlty1_txt</th>\n",
              "      <th>gname</th>\n",
              "      <th>motive</th>\n",
              "      <th>nperps</th>\n",
              "      <th>weaptype1</th>\n",
              "      <th>weaptype1_txt</th>\n",
              "      <th>nkill</th>\n",
              "    </tr>\n",
              "  </thead>\n",
              "  <tbody>\n",
              "    <tr>\n",
              "      <th>0</th>\n",
              "      <td>1970</td>\n",
              "      <td>7</td>\n",
              "      <td>2</td>\n",
              "      <td>58</td>\n",
              "      <td>Dominican Republic</td>\n",
              "      <td>2</td>\n",
              "      <td>Central America &amp; Caribbean</td>\n",
              "      <td>Santo Domingo</td>\n",
              "      <td>1</td>\n",
              "      <td>0</td>\n",
              "      <td>1</td>\n",
              "      <td>Assassination</td>\n",
              "      <td>14</td>\n",
              "      <td>Private Citizens &amp; Property</td>\n",
              "      <td>NaN</td>\n",
              "      <td>58.0</td>\n",
              "      <td>Dominican Republic</td>\n",
              "      <td>MANO-D</td>\n",
              "      <td>NaN</td>\n",
              "      <td>NaN</td>\n",
              "      <td>13</td>\n",
              "      <td>Unknown</td>\n",
              "      <td>1.0</td>\n",
              "    </tr>\n",
              "    <tr>\n",
              "      <th>1</th>\n",
              "      <td>1970</td>\n",
              "      <td>0</td>\n",
              "      <td>0</td>\n",
              "      <td>130</td>\n",
              "      <td>Mexico</td>\n",
              "      <td>1</td>\n",
              "      <td>North America</td>\n",
              "      <td>Mexico city</td>\n",
              "      <td>1</td>\n",
              "      <td>0</td>\n",
              "      <td>6</td>\n",
              "      <td>Hostage Taking (Kidnapping)</td>\n",
              "      <td>7</td>\n",
              "      <td>Government (Diplomatic)</td>\n",
              "      <td>Belgian Ambassador Daughter</td>\n",
              "      <td>21.0</td>\n",
              "      <td>Belgium</td>\n",
              "      <td>23rd of September Communist League</td>\n",
              "      <td>NaN</td>\n",
              "      <td>7.0</td>\n",
              "      <td>13</td>\n",
              "      <td>Unknown</td>\n",
              "      <td>0.0</td>\n",
              "    </tr>\n",
              "    <tr>\n",
              "      <th>2</th>\n",
              "      <td>1970</td>\n",
              "      <td>1</td>\n",
              "      <td>0</td>\n",
              "      <td>160</td>\n",
              "      <td>Philippines</td>\n",
              "      <td>5</td>\n",
              "      <td>Southeast Asia</td>\n",
              "      <td>Unknown</td>\n",
              "      <td>1</td>\n",
              "      <td>0</td>\n",
              "      <td>1</td>\n",
              "      <td>Assassination</td>\n",
              "      <td>10</td>\n",
              "      <td>Journalists &amp; Media</td>\n",
              "      <td>Voice of America</td>\n",
              "      <td>217.0</td>\n",
              "      <td>United States</td>\n",
              "      <td>Unknown</td>\n",
              "      <td>NaN</td>\n",
              "      <td>NaN</td>\n",
              "      <td>13</td>\n",
              "      <td>Unknown</td>\n",
              "      <td>1.0</td>\n",
              "    </tr>\n",
              "  </tbody>\n",
              "</table>\n",
              "</div>"
            ],
            "text/plain": [
              "   iyear  imonth  iday  country  ... nperps  weaptype1 weaptype1_txt nkill\n",
              "0   1970       7     2       58  ...    NaN         13       Unknown   1.0\n",
              "1   1970       0     0      130  ...    7.0         13       Unknown   0.0\n",
              "2   1970       1     0      160  ...    NaN         13       Unknown   1.0\n",
              "\n",
              "[3 rows x 23 columns]"
            ]
          },
          "metadata": {
            "tags": []
          }
        }
      ]
    },
    {
      "cell_type": "code",
      "metadata": {
        "colab": {
          "base_uri": "https://localhost:8080/"
        },
        "id": "IVmhWmEydgEb",
        "outputId": "827e723f-84c5-49de-e98c-c109e3653c4b"
      },
      "source": [
        "name = data.groupby(\"gname\").size()\n",
        "name"
      ],
      "execution_count": null,
      "outputs": [
        {
          "output_type": "execute_result",
          "data": {
            "text/plain": [
              "gname\n",
              "01-may                                   10\n",
              "14 K Triad                                4\n",
              "14 March Coalition                        1\n",
              "14th of December Command                  3\n",
              "15th of September Liberation Legion       1\n",
              "                                         ..\n",
              "Zwai Tribe                                1\n",
              "leftist guerrillas-Bolivarian militia     1\n",
              "may-15                                    1\n",
              "may-36                                    1\n",
              "may-98                                    2\n",
              "Length: 3537, dtype: int64"
            ]
          },
          "metadata": {
            "tags": []
          },
          "execution_count": 43
        }
      ]
    },
    {
      "cell_type": "code",
      "metadata": {
        "colab": {
          "base_uri": "https://localhost:8080/"
        },
        "id": "46SutegSdgEb",
        "outputId": "f7225246-e8da-4c19-ee4f-1a8d481eaf6e"
      },
      "source": [
        "nat = data.groupby(\"natlty1_txt\").size()\n",
        "nat"
      ],
      "execution_count": null,
      "outputs": [
        {
          "output_type": "execute_result",
          "data": {
            "text/plain": [
              "natlty1_txt\n",
              "Afghanistan            10931\n",
              "Albania                   97\n",
              "Algeria                 2664\n",
              "Angola                   429\n",
              "Antigua and Barbuda        1\n",
              "                       ...  \n",
              "Yemen                   3123\n",
              "Yugoslavia               125\n",
              "Zaire                     31\n",
              "Zambia                    53\n",
              "Zimbabwe                  93\n",
              "Length: 215, dtype: int64"
            ]
          },
          "metadata": {
            "tags": []
          },
          "execution_count": 44
        }
      ]
    },
    {
      "cell_type": "code",
      "metadata": {
        "colab": {
          "base_uri": "https://localhost:8080/",
          "height": 306
        },
        "id": "B1DQOzgJdgEd",
        "outputId": "f02d0875-0ee4-4c95-a308-6f81de51924c"
      },
      "source": [
        "data = data.loc[(data['iyear'].astype(int) >= 2010)]\n",
        "data = data.reset_index(drop = True)\n",
        "data.head(2)"
      ],
      "execution_count": null,
      "outputs": [
        {
          "output_type": "execute_result",
          "data": {
            "text/html": [
              "<div>\n",
              "<style scoped>\n",
              "    .dataframe tbody tr th:only-of-type {\n",
              "        vertical-align: middle;\n",
              "    }\n",
              "\n",
              "    .dataframe tbody tr th {\n",
              "        vertical-align: top;\n",
              "    }\n",
              "\n",
              "    .dataframe thead th {\n",
              "        text-align: right;\n",
              "    }\n",
              "</style>\n",
              "<table border=\"1\" class=\"dataframe\">\n",
              "  <thead>\n",
              "    <tr style=\"text-align: right;\">\n",
              "      <th></th>\n",
              "      <th>iyear</th>\n",
              "      <th>imonth</th>\n",
              "      <th>iday</th>\n",
              "      <th>country</th>\n",
              "      <th>country_txt</th>\n",
              "      <th>region</th>\n",
              "      <th>region_txt</th>\n",
              "      <th>city</th>\n",
              "      <th>success</th>\n",
              "      <th>suicide</th>\n",
              "      <th>attacktype1</th>\n",
              "      <th>attacktype1_txt</th>\n",
              "      <th>targtype1</th>\n",
              "      <th>targtype1_txt</th>\n",
              "      <th>corp1</th>\n",
              "      <th>natlty1</th>\n",
              "      <th>natlty1_txt</th>\n",
              "      <th>gname</th>\n",
              "      <th>motive</th>\n",
              "      <th>nperps</th>\n",
              "      <th>weaptype1</th>\n",
              "      <th>weaptype1_txt</th>\n",
              "      <th>nkill</th>\n",
              "    </tr>\n",
              "  </thead>\n",
              "  <tbody>\n",
              "    <tr>\n",
              "      <th>0</th>\n",
              "      <td>2010</td>\n",
              "      <td>1</td>\n",
              "      <td>1</td>\n",
              "      <td>4</td>\n",
              "      <td>Afghanistan</td>\n",
              "      <td>6</td>\n",
              "      <td>South Asia</td>\n",
              "      <td>Dwah Mande</td>\n",
              "      <td>1</td>\n",
              "      <td>0</td>\n",
              "      <td>3</td>\n",
              "      <td>Bombing/Explosion</td>\n",
              "      <td>14</td>\n",
              "      <td>Private Citizens &amp; Property</td>\n",
              "      <td>NaN</td>\n",
              "      <td>4.0</td>\n",
              "      <td>Afghanistan</td>\n",
              "      <td>Taliban</td>\n",
              "      <td>The specific motive for the attack is unknown.</td>\n",
              "      <td>-99.0</td>\n",
              "      <td>6</td>\n",
              "      <td>Explosives</td>\n",
              "      <td>4.0</td>\n",
              "    </tr>\n",
              "    <tr>\n",
              "      <th>1</th>\n",
              "      <td>2010</td>\n",
              "      <td>1</td>\n",
              "      <td>1</td>\n",
              "      <td>153</td>\n",
              "      <td>Pakistan</td>\n",
              "      <td>6</td>\n",
              "      <td>South Asia</td>\n",
              "      <td>Orakzai district</td>\n",
              "      <td>1</td>\n",
              "      <td>0</td>\n",
              "      <td>3</td>\n",
              "      <td>Bombing/Explosion</td>\n",
              "      <td>14</td>\n",
              "      <td>Private Citizens &amp; Property</td>\n",
              "      <td>NaN</td>\n",
              "      <td>153.0</td>\n",
              "      <td>Pakistan</td>\n",
              "      <td>Tehrik-i-Taliban Pakistan (TTP)</td>\n",
              "      <td>The specific motive for the attack is unknown.</td>\n",
              "      <td>-99.0</td>\n",
              "      <td>6</td>\n",
              "      <td>Explosives</td>\n",
              "      <td>0.0</td>\n",
              "    </tr>\n",
              "  </tbody>\n",
              "</table>\n",
              "</div>"
            ],
            "text/plain": [
              "   iyear  imonth  iday  country  ... nperps  weaptype1 weaptype1_txt nkill\n",
              "0   2010       1     1        4  ...  -99.0          6    Explosives   4.0\n",
              "1   2010       1     1      153  ...  -99.0          6    Explosives   0.0\n",
              "\n",
              "[2 rows x 23 columns]"
            ]
          },
          "metadata": {
            "tags": []
          },
          "execution_count": 45
        }
      ]
    },
    {
      "cell_type": "code",
      "metadata": {
        "colab": {
          "base_uri": "https://localhost:8080/",
          "height": 366
        },
        "id": "1bZsNJfwdgEe",
        "outputId": "4b4ddf64-8949-42ea-bf40-b673d21439d8"
      },
      "source": [
        "  plt.subplots(figsize = (6, 4))\n",
        "  sns.countplot('iyear', data = data, palette = 'GnBu')\n",
        "  plt.xticks(rotation = 90)\n",
        "  plt.title('Number Of Terrorist Activities Each Year')\n",
        "  plt.savefig(\"pete2\", dpi = 100)\n",
        "  plt.show()"
      ],
      "execution_count": null,
      "outputs": [
        {
          "output_type": "stream",
          "text": [
            "/usr/local/lib/python3.6/dist-packages/seaborn/_decorators.py:43: FutureWarning: Pass the following variable as a keyword arg: x. From version 0.12, the only valid positional argument will be `data`, and passing other arguments without an explicit keyword will result in an error or misinterpretation.\n",
            "  FutureWarning\n"
          ],
          "name": "stderr"
        },
        {
          "output_type": "display_data",
          "data": {
            "image/png": "[encoded data removed]",
            "text/plain": [
              "<Figure size 432x288 with 1 Axes>"
            ]
          },
          "metadata": {
            "tags": [],
            "needs_background": "light"
          }
        }
      ]
    },
    {
      "cell_type": "code",
      "metadata": {
        "colab": {
          "base_uri": "https://localhost:8080/"
        },
        "id": "JjFxpLWadgEe",
        "outputId": "21321fc1-2a1c-40f7-f96e-0d50fe81d495"
      },
      "source": [
        "data[\"country\"].unique()"
      ],
      "execution_count": null,
      "outputs": [
        {
          "output_type": "execute_result",
          "data": {
            "text/plain": [
              "array([   4,  153,   95,   98,  182,  603,  167,    6,   92,    8,   78,\n",
              "         45,  141,   94,  160,  205,  102,   69,   19,   93,  186,  104,\n",
              "        147,  151,  138,  228,  110,   74,  155,  229,   11,   14,   41,\n",
              "         96, 1001,   63,  195,  217,  168,   60,   97,  146,   37,   18,\n",
              "         43,  130,   65,  209,  198,  203,   38,   42,  107,   34,  158,\n",
              "        185,   28, 1003,  207,  213,  214,  215,  123,   44,  128,   35,\n",
              "        202,   55,  161,  231,  174,   75,  142,   99,   15,  199,  119,\n",
              "        200,  136,  208,  106,  103,  173,   32,   64,   54,  113,   25,\n",
              "         59,  162,   88,  159,   83,  108, 1004,   91,  222,  137,   21,\n",
              "         85,  118,   30,  183,  112,  122,  132,  121,   26,   53,   50,\n",
              "         22,   12,   84,  201, 1002,   33,   36,   47,   58,   17,  101,\n",
              "          5,   90,  144,  210,   16,  100,   56,  145,   76,  124,  111,\n",
              "        184,  164,   68,  219,  218,  156,   87,   86,  179,  177,  223,\n",
              "         72,  230,  157,  120,  109])"
            ]
          },
          "metadata": {
            "tags": []
          },
          "execution_count": 47
        }
      ]
    },
    {
      "cell_type": "code",
      "metadata": {
        "colab": {
          "base_uri": "https://localhost:8080/"
        },
        "id": "_SqgUnZ_dgEe",
        "outputId": "1a222c1a-354d-44a6-bf7b-f51bca48190a"
      },
      "source": [
        "countries_attack = data.groupby(\"country\").size()\n",
        "countries_attack_freq = np.sort(countries_attack)\n",
        "countries_attack_freq"
      ],
      "execution_count": null,
      "outputs": [
        {
          "output_type": "execute_result",
          "data": {
            "text/plain": [
              "array([    1,     1,     1,     1,     1,     1,     1,     1,     1,\n",
              "           1,     1,     1,     1,     1,     1,     2,     2,     2,\n",
              "           2,     2,     2,     2,     2,     2,     2,     2,     2,\n",
              "           2,     2,     3,     3,     3,     3,     3,     3,     3,\n",
              "           4,     4,     4,     4,     4,     5,     5,     5,     5,\n",
              "           5,     5,     5,     5,     6,     6,     6,     6,     6,\n",
              "           7,     7,     7,     8,     8,     9,     9,    10,    10,\n",
              "          10,    11,    12,    12,    13,    14,    14,    14,    16,\n",
              "          16,    16,    16,    17,    17,    18,    20,    21,    23,\n",
              "          24,    25,    29,    32,    34,    35,    37,    40,    42,\n",
              "          49,    49,    49,    54,    55,    62,    63,    66,    77,\n",
              "          79,    80,    82,    86,    90,    91,    94,    98,   139,\n",
              "         157,   163,   165,   206,   213,   225,   230,   254,   263,\n",
              "         263,   267,   289,   309,   310,   463,   512,   562,   579,\n",
              "         600,   646,   737,   740,   746,   891,   920,  1087,  1540,\n",
              "        1674,  1991,  2052,  2233,  2395,  3145,  3488,  3569,  3898,\n",
              "        6348, 10571, 10658, 19286])"
            ]
          },
          "metadata": {
            "tags": []
          },
          "execution_count": 48
        }
      ]
    },
    {
      "cell_type": "code",
      "metadata": {
        "colab": {
          "base_uri": "https://localhost:8080/"
        },
        "id": "mF4cA2mXdgEg",
        "outputId": "a8501a43-e359-4b2e-904f-88c7c76687a0"
      },
      "source": [
        "primero = countries_attack.loc[countries_attack == 24636]\n",
        "segundo = countries_attack.loc[countries_attack == 14368]\n",
        "tercero = countries_attack.loc[countries_attack == 12731]\n",
        "cuarto = countries_attack.loc[countries_attack == 11960]\n",
        "quinto = countries_attack.loc[countries_attack == 8306]\n",
        "\n",
        "print('Most attacked countries,\\n1st place: {}\\n\\n2nd place: {}\\n\\n3rd place: {}\\n\\n4th place: {}\\n\\n5ft place: {}'.format(primero, segundo, tercero, cuarto, quinto))"
      ],
      "execution_count": null,
      "outputs": [
        {
          "output_type": "stream",
          "text": [
            "Most attacked countries,\n",
            "1st place: Series([], dtype: int64)\n",
            "\n",
            "2nd place: Series([], dtype: int64)\n",
            "\n",
            "3rd place: Series([], dtype: int64)\n",
            "\n",
            "4th place: Series([], dtype: int64)\n",
            "\n",
            "5ft place: Series([], dtype: int64)\n"
          ],
          "name": "stdout"
        }
      ]
    },
    {
      "cell_type": "code",
      "metadata": {
        "colab": {
          "base_uri": "https://localhost:8080/",
          "height": 424
        },
        "id": "J3nMQg6TdgEh",
        "outputId": "14c80e4c-3009-4101-e41f-ffc195f20e2e"
      },
      "source": [
        "paises_df = pd.DataFrame(data)\n",
        "paises_df.head(3)"
      ],
      "execution_count": null,
      "outputs": [
        {
          "output_type": "execute_result",
          "data": {
            "text/html": [
              "<div>\n",
              "<style scoped>\n",
              "    .dataframe tbody tr th:only-of-type {\n",
              "        vertical-align: middle;\n",
              "    }\n",
              "\n",
              "    .dataframe tbody tr th {\n",
              "        vertical-align: top;\n",
              "    }\n",
              "\n",
              "    .dataframe thead th {\n",
              "        text-align: right;\n",
              "    }\n",
              "</style>\n",
              "<table border=\"1\" class=\"dataframe\">\n",
              "  <thead>\n",
              "    <tr style=\"text-align: right;\">\n",
              "      <th></th>\n",
              "      <th>iyear</th>\n",
              "      <th>imonth</th>\n",
              "      <th>iday</th>\n",
              "      <th>country</th>\n",
              "      <th>country_txt</th>\n",
              "      <th>region</th>\n",
              "      <th>region_txt</th>\n",
              "      <th>city</th>\n",
              "      <th>success</th>\n",
              "      <th>suicide</th>\n",
              "      <th>attacktype1</th>\n",
              "      <th>attacktype1_txt</th>\n",
              "      <th>targtype1</th>\n",
              "      <th>targtype1_txt</th>\n",
              "      <th>corp1</th>\n",
              "      <th>natlty1</th>\n",
              "      <th>natlty1_txt</th>\n",
              "      <th>gname</th>\n",
              "      <th>motive</th>\n",
              "      <th>nperps</th>\n",
              "      <th>weaptype1</th>\n",
              "      <th>weaptype1_txt</th>\n",
              "      <th>nkill</th>\n",
              "    </tr>\n",
              "  </thead>\n",
              "  <tbody>\n",
              "    <tr>\n",
              "      <th>0</th>\n",
              "      <td>2010</td>\n",
              "      <td>1</td>\n",
              "      <td>1</td>\n",
              "      <td>4</td>\n",
              "      <td>Afghanistan</td>\n",
              "      <td>6</td>\n",
              "      <td>South Asia</td>\n",
              "      <td>Dwah Mande</td>\n",
              "      <td>1</td>\n",
              "      <td>0</td>\n",
              "      <td>3</td>\n",
              "      <td>Bombing/Explosion</td>\n",
              "      <td>14</td>\n",
              "      <td>Private Citizens &amp; Property</td>\n",
              "      <td>NaN</td>\n",
              "      <td>4.0</td>\n",
              "      <td>Afghanistan</td>\n",
              "      <td>Taliban</td>\n",
              "      <td>The specific motive for the attack is unknown.</td>\n",
              "      <td>-99.0</td>\n",
              "      <td>6</td>\n",
              "      <td>Explosives</td>\n",
              "      <td>4.0</td>\n",
              "    </tr>\n",
              "    <tr>\n",
              "      <th>1</th>\n",
              "      <td>2010</td>\n",
              "      <td>1</td>\n",
              "      <td>1</td>\n",
              "      <td>153</td>\n",
              "      <td>Pakistan</td>\n",
              "      <td>6</td>\n",
              "      <td>South Asia</td>\n",
              "      <td>Orakzai district</td>\n",
              "      <td>1</td>\n",
              "      <td>0</td>\n",
              "      <td>3</td>\n",
              "      <td>Bombing/Explosion</td>\n",
              "      <td>14</td>\n",
              "      <td>Private Citizens &amp; Property</td>\n",
              "      <td>NaN</td>\n",
              "      <td>153.0</td>\n",
              "      <td>Pakistan</td>\n",
              "      <td>Tehrik-i-Taliban Pakistan (TTP)</td>\n",
              "      <td>The specific motive for the attack is unknown.</td>\n",
              "      <td>-99.0</td>\n",
              "      <td>6</td>\n",
              "      <td>Explosives</td>\n",
              "      <td>0.0</td>\n",
              "    </tr>\n",
              "    <tr>\n",
              "      <th>2</th>\n",
              "      <td>2010</td>\n",
              "      <td>1</td>\n",
              "      <td>1</td>\n",
              "      <td>153</td>\n",
              "      <td>Pakistan</td>\n",
              "      <td>6</td>\n",
              "      <td>South Asia</td>\n",
              "      <td>Karachi</td>\n",
              "      <td>0</td>\n",
              "      <td>0</td>\n",
              "      <td>3</td>\n",
              "      <td>Bombing/Explosion</td>\n",
              "      <td>14</td>\n",
              "      <td>Private Citizens &amp; Property</td>\n",
              "      <td>NaN</td>\n",
              "      <td>153.0</td>\n",
              "      <td>Pakistan</td>\n",
              "      <td>Unknown</td>\n",
              "      <td>The specific motive for the attack is unknown.</td>\n",
              "      <td>-99.0</td>\n",
              "      <td>6</td>\n",
              "      <td>Explosives</td>\n",
              "      <td>0.0</td>\n",
              "    </tr>\n",
              "  </tbody>\n",
              "</table>\n",
              "</div>"
            ],
            "text/plain": [
              "   iyear  imonth  iday  country  ... nperps  weaptype1 weaptype1_txt nkill\n",
              "0   2010       1     1        4  ...  -99.0          6    Explosives   4.0\n",
              "1   2010       1     1      153  ...  -99.0          6    Explosives   0.0\n",
              "2   2010       1     1      153  ...  -99.0          6    Explosives   0.0\n",
              "\n",
              "[3 rows x 23 columns]"
            ]
          },
          "metadata": {
            "tags": []
          },
          "execution_count": 50
        }
      ]
    },
    {
      "cell_type": "code",
      "metadata": {
        "colab": {
          "base_uri": "https://localhost:8080/",
          "height": 206
        },
        "id": "2vlHmYtHdgEi",
        "outputId": "b4a68692-fd40-4fce-d798-313848aa25c9"
      },
      "source": [
        "paises_df = paises_df[['country', 'country_txt', 'iyear']]\n",
        "paises_df.head()"
      ],
      "execution_count": null,
      "outputs": [
        {
          "output_type": "execute_result",
          "data": {
            "text/html": [
              "<div>\n",
              "<style scoped>\n",
              "    .dataframe tbody tr th:only-of-type {\n",
              "        vertical-align: middle;\n",
              "    }\n",
              "\n",
              "    .dataframe tbody tr th {\n",
              "        vertical-align: top;\n",
              "    }\n",
              "\n",
              "    .dataframe thead th {\n",
              "        text-align: right;\n",
              "    }\n",
              "</style>\n",
              "<table border=\"1\" class=\"dataframe\">\n",
              "  <thead>\n",
              "    <tr style=\"text-align: right;\">\n",
              "      <th></th>\n",
              "      <th>country</th>\n",
              "      <th>country_txt</th>\n",
              "      <th>iyear</th>\n",
              "    </tr>\n",
              "  </thead>\n",
              "  <tbody>\n",
              "    <tr>\n",
              "      <th>0</th>\n",
              "      <td>4</td>\n",
              "      <td>Afghanistan</td>\n",
              "      <td>2010</td>\n",
              "    </tr>\n",
              "    <tr>\n",
              "      <th>1</th>\n",
              "      <td>153</td>\n",
              "      <td>Pakistan</td>\n",
              "      <td>2010</td>\n",
              "    </tr>\n",
              "    <tr>\n",
              "      <th>2</th>\n",
              "      <td>153</td>\n",
              "      <td>Pakistan</td>\n",
              "      <td>2010</td>\n",
              "    </tr>\n",
              "    <tr>\n",
              "      <th>3</th>\n",
              "      <td>153</td>\n",
              "      <td>Pakistan</td>\n",
              "      <td>2010</td>\n",
              "    </tr>\n",
              "    <tr>\n",
              "      <th>4</th>\n",
              "      <td>153</td>\n",
              "      <td>Pakistan</td>\n",
              "      <td>2010</td>\n",
              "    </tr>\n",
              "  </tbody>\n",
              "</table>\n",
              "</div>"
            ],
            "text/plain": [
              "   country  country_txt  iyear\n",
              "0        4  Afghanistan   2010\n",
              "1      153     Pakistan   2010\n",
              "2      153     Pakistan   2010\n",
              "3      153     Pakistan   2010\n",
              "4      153     Pakistan   2010"
            ]
          },
          "metadata": {
            "tags": []
          },
          "execution_count": 51
        }
      ]
    },
    {
      "cell_type": "code",
      "metadata": {
        "colab": {
          "base_uri": "https://localhost:8080/"
        },
        "id": "Buwq40XkdgEi",
        "outputId": "50b0d8ad-952c-42fb-b18b-5843bad73989"
      },
      "source": [
        "print('Most attacked countries,\\n1st place: {}\\n\\n2nd place: {}\\n\\n3rd place: {}\\n\\n4th place: {}\\n\\n5ft place: {}'.format(primero, segundo, tercero, cuarto, quinto))"
      ],
      "execution_count": null,
      "outputs": [
        {
          "output_type": "stream",
          "text": [
            "Most attacked countries,\n",
            "1st place: Series([], dtype: int64)\n",
            "\n",
            "2nd place: Series([], dtype: int64)\n",
            "\n",
            "3rd place: Series([], dtype: int64)\n",
            "\n",
            "4th place: Series([], dtype: int64)\n",
            "\n",
            "5ft place: Series([], dtype: int64)\n"
          ],
          "name": "stdout"
        }
      ]
    },
    {
      "cell_type": "code",
      "metadata": {
        "colab": {
          "base_uri": "https://localhost:8080/",
          "height": 328
        },
        "id": "ASQarHMFdgEj",
        "outputId": "486e825a-7d45-4019-94e9-ed0fede62de2"
      },
      "source": [
        "# library\n",
        "#import matplotlib.pyplot as plt\n",
        " \n",
        "# create data\n",
        "names=['Iraq', 'Pakistan', 'Afghanistan', 'India', 'Colombia']\n",
        "size=[34.2, 20, 17, 16.6, 11.5]\n",
        " \n",
        "# Create a circle for the center of the plot\n",
        "#my_circle=plt.Circle( (0,0), 0.7, color='white')\n",
        "plt.bar(range(5), size, edgecolor='black')\n",
        "\n",
        "plt.xticks(range(5),names, rotation=60)\n",
        "plt.title(\"Most attacked countries\")\n",
        "plt.ylim(min(size)-1, max(size)+1)\n",
        "#plt.pie(size, labels=names, colors = ['paleturquoise','lightskyblue','seagreen','mediumaquamarine','lightgreen'], autopct = '%1.1f%%')\n",
        "#p=plt.gcf()\n",
        "#p.gca().add_artist(my_circle)\n",
        "#plt.savefig(\"pete1\", dpi = 100, transparent = True)\n",
        "plt.show()"
      ],
      "execution_count": null,
      "outputs": [
        {
          "output_type": "display_data",
          "data": {
            "image/png": "[encoded data removed]",
            "text/plain": [
              "<Figure size 432x288 with 1 Axes>"
            ]
          },
          "metadata": {
            "tags": [],
            "needs_background": "light"
          }
        }
      ]
    },
    {
      "cell_type": "markdown",
      "metadata": {
        "id": "OZHwryO_dgEj"
      },
      "source": [
        "## Targets"
      ]
    },
    {
      "cell_type": "code",
      "metadata": {
        "colab": {
          "base_uri": "https://localhost:8080/",
          "height": 424
        },
        "id": "1W_HTAttdgEk",
        "outputId": "36e751a8-1e28-480c-a3df-38f23e0165d4"
      },
      "source": [
        "data.head(3)"
      ],
      "execution_count": null,
      "outputs": [
        {
          "output_type": "execute_result",
          "data": {
            "text/html": [
              "<div>\n",
              "<style scoped>\n",
              "    .dataframe tbody tr th:only-of-type {\n",
              "        vertical-align: middle;\n",
              "    }\n",
              "\n",
              "    .dataframe tbody tr th {\n",
              "        vertical-align: top;\n",
              "    }\n",
              "\n",
              "    .dataframe thead th {\n",
              "        text-align: right;\n",
              "    }\n",
              "</style>\n",
              "<table border=\"1\" class=\"dataframe\">\n",
              "  <thead>\n",
              "    <tr style=\"text-align: right;\">\n",
              "      <th></th>\n",
              "      <th>iyear</th>\n",
              "      <th>imonth</th>\n",
              "      <th>iday</th>\n",
              "      <th>country</th>\n",
              "      <th>country_txt</th>\n",
              "      <th>region</th>\n",
              "      <th>region_txt</th>\n",
              "      <th>city</th>\n",
              "      <th>success</th>\n",
              "      <th>suicide</th>\n",
              "      <th>attacktype1</th>\n",
              "      <th>attacktype1_txt</th>\n",
              "      <th>targtype1</th>\n",
              "      <th>targtype1_txt</th>\n",
              "      <th>corp1</th>\n",
              "      <th>natlty1</th>\n",
              "      <th>natlty1_txt</th>\n",
              "      <th>gname</th>\n",
              "      <th>motive</th>\n",
              "      <th>nperps</th>\n",
              "      <th>weaptype1</th>\n",
              "      <th>weaptype1_txt</th>\n",
              "      <th>nkill</th>\n",
              "    </tr>\n",
              "  </thead>\n",
              "  <tbody>\n",
              "    <tr>\n",
              "      <th>0</th>\n",
              "      <td>2010</td>\n",
              "      <td>1</td>\n",
              "      <td>1</td>\n",
              "      <td>4</td>\n",
              "      <td>Afghanistan</td>\n",
              "      <td>6</td>\n",
              "      <td>South Asia</td>\n",
              "      <td>Dwah Mande</td>\n",
              "      <td>1</td>\n",
              "      <td>0</td>\n",
              "      <td>3</td>\n",
              "      <td>Bombing/Explosion</td>\n",
              "      <td>14</td>\n",
              "      <td>Private Citizens &amp; Property</td>\n",
              "      <td>NaN</td>\n",
              "      <td>4.0</td>\n",
              "      <td>Afghanistan</td>\n",
              "      <td>Taliban</td>\n",
              "      <td>The specific motive for the attack is unknown.</td>\n",
              "      <td>-99.0</td>\n",
              "      <td>6</td>\n",
              "      <td>Explosives</td>\n",
              "      <td>4.0</td>\n",
              "    </tr>\n",
              "    <tr>\n",
              "      <th>1</th>\n",
              "      <td>2010</td>\n",
              "      <td>1</td>\n",
              "      <td>1</td>\n",
              "      <td>153</td>\n",
              "      <td>Pakistan</td>\n",
              "      <td>6</td>\n",
              "      <td>South Asia</td>\n",
              "      <td>Orakzai district</td>\n",
              "      <td>1</td>\n",
              "      <td>0</td>\n",
              "      <td>3</td>\n",
              "      <td>Bombing/Explosion</td>\n",
              "      <td>14</td>\n",
              "      <td>Private Citizens &amp; Property</td>\n",
              "      <td>NaN</td>\n",
              "      <td>153.0</td>\n",
              "      <td>Pakistan</td>\n",
              "      <td>Tehrik-i-Taliban Pakistan (TTP)</td>\n",
              "      <td>The specific motive for the attack is unknown.</td>\n",
              "      <td>-99.0</td>\n",
              "      <td>6</td>\n",
              "      <td>Explosives</td>\n",
              "      <td>0.0</td>\n",
              "    </tr>\n",
              "    <tr>\n",
              "      <th>2</th>\n",
              "      <td>2010</td>\n",
              "      <td>1</td>\n",
              "      <td>1</td>\n",
              "      <td>153</td>\n",
              "      <td>Pakistan</td>\n",
              "      <td>6</td>\n",
              "      <td>South Asia</td>\n",
              "      <td>Karachi</td>\n",
              "      <td>0</td>\n",
              "      <td>0</td>\n",
              "      <td>3</td>\n",
              "      <td>Bombing/Explosion</td>\n",
              "      <td>14</td>\n",
              "      <td>Private Citizens &amp; Property</td>\n",
              "      <td>NaN</td>\n",
              "      <td>153.0</td>\n",
              "      <td>Pakistan</td>\n",
              "      <td>Unknown</td>\n",
              "      <td>The specific motive for the attack is unknown.</td>\n",
              "      <td>-99.0</td>\n",
              "      <td>6</td>\n",
              "      <td>Explosives</td>\n",
              "      <td>0.0</td>\n",
              "    </tr>\n",
              "  </tbody>\n",
              "</table>\n",
              "</div>"
            ],
            "text/plain": [
              "   iyear  imonth  iday  country  ... nperps  weaptype1 weaptype1_txt nkill\n",
              "0   2010       1     1        4  ...  -99.0          6    Explosives   4.0\n",
              "1   2010       1     1      153  ...  -99.0          6    Explosives   0.0\n",
              "2   2010       1     1      153  ...  -99.0          6    Explosives   0.0\n",
              "\n",
              "[3 rows x 23 columns]"
            ]
          },
          "metadata": {
            "tags": []
          },
          "execution_count": 21
        }
      ]
    },
    {
      "cell_type": "code",
      "metadata": {
        "colab": {
          "base_uri": "https://localhost:8080/"
        },
        "id": "NkZ9vGpwdgEk",
        "outputId": "d348042b-c13f-471e-9a44-e4113b338672"
      },
      "source": [
        "data.targtype1.unique()"
      ],
      "execution_count": null,
      "outputs": [
        {
          "output_type": "execute_result",
          "data": {
            "text/plain": [
              "array([14,  8,  1,  3,  2, 19, 22, 17,  7, 12, 20, 15, 21,  4, 10, 16,  6,\n",
              "        9, 13, 18, 11,  5])"
            ]
          },
          "metadata": {
            "tags": []
          },
          "execution_count": 22
        }
      ]
    },
    {
      "cell_type": "code",
      "metadata": {
        "colab": {
          "base_uri": "https://localhost:8080/"
        },
        "id": "IMTpZ6gndgEk",
        "outputId": "2ca1a5ca-c3b6-4462-c33c-7cc4e50ad490"
      },
      "source": [
        "targets = data.groupby(\"targtype1\").size()\n",
        "targets_freq = np.sort(targets)\n",
        "targets_freq"
      ],
      "execution_count": null,
      "outputs": [
        {
          "output_type": "execute_result",
          "data": {
            "text/plain": [
              "array([   13,    74,    85,    86,   105,   214,   378,   413,   825,\n",
              "         977,  1054,  1747,  1924,  1978,  2161,  2289,  4812,  6451,\n",
              "        8639, 13331, 16318, 22941])"
            ]
          },
          "metadata": {
            "tags": []
          },
          "execution_count": 23
        }
      ]
    },
    {
      "cell_type": "code",
      "metadata": {
        "id": "knLRpoQ5dgEl"
      },
      "source": [
        "tar1 = targets.loc[targets == 43511]\n",
        "tar2 = targets.loc[targets == 27984]\n",
        "tar3 = targets.loc[targets == 24506]\n",
        "tar4 = targets.loc[targets == 21283]\n",
        "tar5 = targets.loc[targets == 20669]\n",
        "tar6 = targets.loc[targets == 6799]\n",
        "tar7 = targets.loc[targets == 6023]"
      ],
      "execution_count": null,
      "outputs": []
    },
    {
      "cell_type": "code",
      "metadata": {
        "colab": {
          "base_uri": "https://localhost:8080/"
        },
        "id": "KLjB87bUdgEl",
        "outputId": "184fe782-8242-4be4-8180-3fcfe6a7f2e2"
      },
      "source": [
        "tar1, tar2, tar3, tar4, tar5, tar6, tar7"
      ],
      "execution_count": null,
      "outputs": [
        {
          "output_type": "execute_result",
          "data": {
            "text/plain": [
              "(Series([], dtype: int64),\n",
              " Series([], dtype: int64),\n",
              " Series([], dtype: int64),\n",
              " Series([], dtype: int64),\n",
              " Series([], dtype: int64),\n",
              " Series([], dtype: int64),\n",
              " Series([], dtype: int64))"
            ]
          },
          "metadata": {
            "tags": []
          },
          "execution_count": 25
        }
      ]
    },
    {
      "cell_type": "code",
      "metadata": {
        "colab": {
          "base_uri": "https://localhost:8080/"
        },
        "id": "hQZPEWFldgEl",
        "outputId": "ccb4810d-0687-4804-ef2f-ad78da8dd08c"
      },
      "source": [
        "data.targtype1_txt.unique()"
      ],
      "execution_count": null,
      "outputs": [
        {
          "output_type": "execute_result",
          "data": {
            "text/plain": [
              "array(['Private Citizens & Property', 'Educational Institution',\n",
              "       'Business', 'Police', 'Government (General)', 'Transportation',\n",
              "       'Violent Political Party', 'Terrorists/Non-State Militia',\n",
              "       'Government (Diplomatic)', 'NGO', 'Unknown',\n",
              "       'Religious Figures/Institutions', 'Utilities', 'Military',\n",
              "       'Journalists & Media', 'Telecommunication', 'Airports & Aircraft',\n",
              "       'Food or Water Supply', 'Other', 'Tourists', 'Maritime',\n",
              "       'Abortion Related'], dtype=object)"
            ]
          },
          "metadata": {
            "tags": []
          },
          "execution_count": 26
        }
      ]
    },
    {
      "cell_type": "code",
      "metadata": {
        "id": "i-DiNOpNdgEl"
      },
      "source": [
        "# Constructing DataFrame object\n",
        "dr = {0 : 14, 1 : 4, 2 : 3, 3 : 2, 4: 1, 5: 19, 6: 21}\n",
        "binary = {0 : 43511, 1 : 27984, 2 : 24506, 3 : 21283, 4 : 20669, 5 : 6799, 6:6023}"
      ],
      "execution_count": null,
      "outputs": []
    },
    {
      "cell_type": "code",
      "metadata": {
        "id": "iJDgb66tdgEl"
      },
      "source": [
        "sr = pd.Series(dr)\n",
        "binn = pd.Series(binary)"
      ],
      "execution_count": null,
      "outputs": []
    },
    {
      "cell_type": "code",
      "metadata": {
        "colab": {
          "base_uri": "https://localhost:8080/",
          "height": 269
        },
        "id": "aY4ooQKzdgEl",
        "outputId": "dd94290c-ad56-49b2-e235-ff22450ebec6"
      },
      "source": [
        "df = pd.DataFrame({'attacks_type': sr, 'frequency' : binn})\n",
        "df"
      ],
      "execution_count": null,
      "outputs": [
        {
          "output_type": "execute_result",
          "data": {
            "text/html": [
              "<div>\n",
              "<style scoped>\n",
              "    .dataframe tbody tr th:only-of-type {\n",
              "        vertical-align: middle;\n",
              "    }\n",
              "\n",
              "    .dataframe tbody tr th {\n",
              "        vertical-align: top;\n",
              "    }\n",
              "\n",
              "    .dataframe thead th {\n",
              "        text-align: right;\n",
              "    }\n",
              "</style>\n",
              "<table border=\"1\" class=\"dataframe\">\n",
              "  <thead>\n",
              "    <tr style=\"text-align: right;\">\n",
              "      <th></th>\n",
              "      <th>attacks_type</th>\n",
              "      <th>frequency</th>\n",
              "    </tr>\n",
              "  </thead>\n",
              "  <tbody>\n",
              "    <tr>\n",
              "      <th>0</th>\n",
              "      <td>14</td>\n",
              "      <td>43511</td>\n",
              "    </tr>\n",
              "    <tr>\n",
              "      <th>1</th>\n",
              "      <td>4</td>\n",
              "      <td>27984</td>\n",
              "    </tr>\n",
              "    <tr>\n",
              "      <th>2</th>\n",
              "      <td>3</td>\n",
              "      <td>24506</td>\n",
              "    </tr>\n",
              "    <tr>\n",
              "      <th>3</th>\n",
              "      <td>2</td>\n",
              "      <td>21283</td>\n",
              "    </tr>\n",
              "    <tr>\n",
              "      <th>4</th>\n",
              "      <td>1</td>\n",
              "      <td>20669</td>\n",
              "    </tr>\n",
              "    <tr>\n",
              "      <th>5</th>\n",
              "      <td>19</td>\n",
              "      <td>6799</td>\n",
              "    </tr>\n",
              "    <tr>\n",
              "      <th>6</th>\n",
              "      <td>21</td>\n",
              "      <td>6023</td>\n",
              "    </tr>\n",
              "  </tbody>\n",
              "</table>\n",
              "</div>"
            ],
            "text/plain": [
              "   attacks_type  frequency\n",
              "0            14      43511\n",
              "1             4      27984\n",
              "2             3      24506\n",
              "3             2      21283\n",
              "4             1      20669\n",
              "5            19       6799\n",
              "6            21       6023"
            ]
          },
          "metadata": {
            "tags": []
          },
          "execution_count": 29
        }
      ]
    },
    {
      "cell_type": "code",
      "metadata": {
        "colab": {
          "base_uri": "https://localhost:8080/",
          "height": 269
        },
        "id": "-AMCGFk8dgEm",
        "outputId": "1996a1b8-d13f-4a0e-ecae-b00d3a2295ce"
      },
      "source": [
        "col_name = 'target'\n",
        "df[col_name] = None\n",
        "df"
      ],
      "execution_count": null,
      "outputs": [
        {
          "output_type": "execute_result",
          "data": {
            "text/html": [
              "<div>\n",
              "<style scoped>\n",
              "    .dataframe tbody tr th:only-of-type {\n",
              "        vertical-align: middle;\n",
              "    }\n",
              "\n",
              "    .dataframe tbody tr th {\n",
              "        vertical-align: top;\n",
              "    }\n",
              "\n",
              "    .dataframe thead th {\n",
              "        text-align: right;\n",
              "    }\n",
              "</style>\n",
              "<table border=\"1\" class=\"dataframe\">\n",
              "  <thead>\n",
              "    <tr style=\"text-align: right;\">\n",
              "      <th></th>\n",
              "      <th>attacks_type</th>\n",
              "      <th>frequency</th>\n",
              "      <th>target</th>\n",
              "    </tr>\n",
              "  </thead>\n",
              "  <tbody>\n",
              "    <tr>\n",
              "      <th>0</th>\n",
              "      <td>14</td>\n",
              "      <td>43511</td>\n",
              "      <td>None</td>\n",
              "    </tr>\n",
              "    <tr>\n",
              "      <th>1</th>\n",
              "      <td>4</td>\n",
              "      <td>27984</td>\n",
              "      <td>None</td>\n",
              "    </tr>\n",
              "    <tr>\n",
              "      <th>2</th>\n",
              "      <td>3</td>\n",
              "      <td>24506</td>\n",
              "      <td>None</td>\n",
              "    </tr>\n",
              "    <tr>\n",
              "      <th>3</th>\n",
              "      <td>2</td>\n",
              "      <td>21283</td>\n",
              "      <td>None</td>\n",
              "    </tr>\n",
              "    <tr>\n",
              "      <th>4</th>\n",
              "      <td>1</td>\n",
              "      <td>20669</td>\n",
              "      <td>None</td>\n",
              "    </tr>\n",
              "    <tr>\n",
              "      <th>5</th>\n",
              "      <td>19</td>\n",
              "      <td>6799</td>\n",
              "      <td>None</td>\n",
              "    </tr>\n",
              "    <tr>\n",
              "      <th>6</th>\n",
              "      <td>21</td>\n",
              "      <td>6023</td>\n",
              "      <td>None</td>\n",
              "    </tr>\n",
              "  </tbody>\n",
              "</table>\n",
              "</div>"
            ],
            "text/plain": [
              "   attacks_type  frequency target\n",
              "0            14      43511   None\n",
              "1             4      27984   None\n",
              "2             3      24506   None\n",
              "3             2      21283   None\n",
              "4             1      20669   None\n",
              "5            19       6799   None\n",
              "6            21       6023   None"
            ]
          },
          "metadata": {
            "tags": []
          },
          "execution_count": 30
        }
      ]
    },
    {
      "cell_type": "code",
      "metadata": {
        "colab": {
          "base_uri": "https://localhost:8080/"
        },
        "id": "UzMI_6vrdgEm",
        "outputId": "1080720a-b30c-4e6b-b09a-3f2becd9145b"
      },
      "source": [
        "data.targtype1_txt"
      ],
      "execution_count": null,
      "outputs": [
        {
          "output_type": "execute_result",
          "data": {
            "text/plain": [
              "0        Private Citizens & Property\n",
              "1        Private Citizens & Property\n",
              "2        Private Citizens & Property\n",
              "3            Educational Institution\n",
              "4            Educational Institution\n",
              "                    ...             \n",
              "86810                       Military\n",
              "86811                       Military\n",
              "86812    Private Citizens & Property\n",
              "86813           Government (General)\n",
              "86814                        Unknown\n",
              "Name: targtype1_txt, Length: 86815, dtype: object"
            ]
          },
          "metadata": {
            "tags": []
          },
          "execution_count": 31
        }
      ]
    },
    {
      "cell_type": "code",
      "metadata": {
        "colab": {
          "base_uri": "https://localhost:8080/"
        },
        "id": "l_B7DIMCdgEn",
        "outputId": "2abe1d0b-17cd-44d8-93bd-7987c650f480"
      },
      "source": [
        "df['target'][0] = 'Business'\n",
        "df['target'][1] = 'Government (Diplomatic)'\n",
        "df['target'][2] = 'Journalists & Media'\n",
        "df['target'][3] = 'Private Citizens & Property'\n",
        "df['target'][4] = 'Educational Institution'"
      ],
      "execution_count": null,
      "outputs": [
        {
          "output_type": "stream",
          "text": [
            "/usr/local/lib/python3.6/dist-packages/ipykernel_launcher.py:1: SettingWithCopyWarning: \n",
            "A value is trying to be set on a copy of a slice from a DataFrame\n",
            "\n",
            "See the caveats in the documentation: https://pandas.pydata.org/pandas-docs/stable/user_guide/indexing.html#returning-a-view-versus-a-copy\n",
            "  \"\"\"Entry point for launching an IPython kernel.\n",
            "/usr/local/lib/python3.6/dist-packages/ipykernel_launcher.py:2: SettingWithCopyWarning: \n",
            "A value is trying to be set on a copy of a slice from a DataFrame\n",
            "\n",
            "See the caveats in the documentation: https://pandas.pydata.org/pandas-docs/stable/user_guide/indexing.html#returning-a-view-versus-a-copy\n",
            "  \n",
            "/usr/local/lib/python3.6/dist-packages/ipykernel_launcher.py:3: SettingWithCopyWarning: \n",
            "A value is trying to be set on a copy of a slice from a DataFrame\n",
            "\n",
            "See the caveats in the documentation: https://pandas.pydata.org/pandas-docs/stable/user_guide/indexing.html#returning-a-view-versus-a-copy\n",
            "  This is separate from the ipykernel package so we can avoid doing imports until\n",
            "/usr/local/lib/python3.6/dist-packages/ipykernel_launcher.py:4: SettingWithCopyWarning: \n",
            "A value is trying to be set on a copy of a slice from a DataFrame\n",
            "\n",
            "See the caveats in the documentation: https://pandas.pydata.org/pandas-docs/stable/user_guide/indexing.html#returning-a-view-versus-a-copy\n",
            "  after removing the cwd from sys.path.\n",
            "/usr/local/lib/python3.6/dist-packages/ipykernel_launcher.py:5: SettingWithCopyWarning: \n",
            "A value is trying to be set on a copy of a slice from a DataFrame\n",
            "\n",
            "See the caveats in the documentation: https://pandas.pydata.org/pandas-docs/stable/user_guide/indexing.html#returning-a-view-versus-a-copy\n",
            "  \"\"\"\n"
          ],
          "name": "stderr"
        }
      ]
    },
    {
      "cell_type": "code",
      "metadata": {
        "colab": {
          "base_uri": "https://localhost:8080/",
          "height": 206
        },
        "id": "C3pH8P0HdgEn",
        "outputId": "2a71fcdb-134a-483d-b55c-e9e9458d042b"
      },
      "source": [
        "df = df.drop([5, 6], axis = 0)\n",
        "df"
      ],
      "execution_count": null,
      "outputs": [
        {
          "output_type": "execute_result",
          "data": {
            "text/html": [
              "<div>\n",
              "<style scoped>\n",
              "    .dataframe tbody tr th:only-of-type {\n",
              "        vertical-align: middle;\n",
              "    }\n",
              "\n",
              "    .dataframe tbody tr th {\n",
              "        vertical-align: top;\n",
              "    }\n",
              "\n",
              "    .dataframe thead th {\n",
              "        text-align: right;\n",
              "    }\n",
              "</style>\n",
              "<table border=\"1\" class=\"dataframe\">\n",
              "  <thead>\n",
              "    <tr style=\"text-align: right;\">\n",
              "      <th></th>\n",
              "      <th>attacks_type</th>\n",
              "      <th>frequency</th>\n",
              "      <th>target</th>\n",
              "    </tr>\n",
              "  </thead>\n",
              "  <tbody>\n",
              "    <tr>\n",
              "      <th>0</th>\n",
              "      <td>14</td>\n",
              "      <td>43511</td>\n",
              "      <td>Business</td>\n",
              "    </tr>\n",
              "    <tr>\n",
              "      <th>1</th>\n",
              "      <td>4</td>\n",
              "      <td>27984</td>\n",
              "      <td>Government (Diplomatic)</td>\n",
              "    </tr>\n",
              "    <tr>\n",
              "      <th>2</th>\n",
              "      <td>3</td>\n",
              "      <td>24506</td>\n",
              "      <td>Journalists &amp; Media</td>\n",
              "    </tr>\n",
              "    <tr>\n",
              "      <th>3</th>\n",
              "      <td>2</td>\n",
              "      <td>21283</td>\n",
              "      <td>Private Citizens &amp; Property</td>\n",
              "    </tr>\n",
              "    <tr>\n",
              "      <th>4</th>\n",
              "      <td>1</td>\n",
              "      <td>20669</td>\n",
              "      <td>Educational Institution</td>\n",
              "    </tr>\n",
              "  </tbody>\n",
              "</table>\n",
              "</div>"
            ],
            "text/plain": [
              "   attacks_type  frequency                       target\n",
              "0            14      43511                     Business\n",
              "1             4      27984      Government (Diplomatic)\n",
              "2             3      24506          Journalists & Media\n",
              "3             2      21283  Private Citizens & Property\n",
              "4             1      20669      Educational Institution"
            ]
          },
          "metadata": {
            "tags": []
          },
          "execution_count": 33
        }
      ]
    },
    {
      "cell_type": "markdown",
      "metadata": {
        "id": "jyYumyxgdgEn"
      },
      "source": [
        "plt.figure(figsize = (5, 5))\n",
        "\n",
        "ax = sns.countplot(y = data[\"attacktype1_txt\"], order = data[\"attacktype1_txt\"].value_counts().index, linewidth = 0, edgecolor = \"k\" * data[\"attacktype1_txt\"].nunique(), palette = \"GnBu\")\n",
        "\n",
        "for i,j in enumerate(data[\"attacktype1_txt\"].value_counts().values):\n",
        "    ax.text(.7, i, j, weight = \"bold\")\n",
        "    \n",
        "plt.title(\"Matches by league\")\n",
        "plt.show()"
      ]
    },
    {
      "cell_type": "code",
      "metadata": {
        "colab": {
          "base_uri": "https://localhost:8080/",
          "height": 334
        },
        "id": "qzjBmYvNdgEn",
        "outputId": "5bff4a4f-52a1-4820-88bc-25da17082b3a"
      },
      "source": [
        "sns.barplot(data = df, y = 'target', x = 'frequency', orient = 'h',palette = \"GnBu\")\n",
        "plt.xticks(rotation = -45)"
      ],
      "execution_count": null,
      "outputs": [
        {
          "output_type": "execute_result",
          "data": {
            "text/plain": [
              "(array([    0., 10000., 20000., 30000., 40000., 50000.]),\n",
              " <a list of 6 Text major ticklabel objects>)"
            ]
          },
          "metadata": {
            "tags": []
          },
          "execution_count": 34
        },
        {
          "output_type": "display_data",
          "data": {
            "image/png": "[encoded data removed]",
            "text/plain": [
              "<Figure size 432x288 with 1 Axes>"
            ]
          },
          "metadata": {
            "tags": [],
            "needs_background": "light"
          }
        }
      ]
    },
    {
      "cell_type": "code",
      "metadata": {
        "colab": {
          "base_uri": "https://localhost:8080/",
          "height": 285
        },
        "id": "Xx5C2OuHdgEo",
        "outputId": "5a4b6e98-2e5d-42b1-e909-f9ce278c0e8f"
      },
      "source": [
        "data.tail(3)"
      ],
      "execution_count": null,
      "outputs": [
        {
          "output_type": "execute_result",
          "data": {
            "text/html": [
              "<div>\n",
              "<style scoped>\n",
              "    .dataframe tbody tr th:only-of-type {\n",
              "        vertical-align: middle;\n",
              "    }\n",
              "\n",
              "    .dataframe tbody tr th {\n",
              "        vertical-align: top;\n",
              "    }\n",
              "\n",
              "    .dataframe thead th {\n",
              "        text-align: right;\n",
              "    }\n",
              "</style>\n",
              "<table border=\"1\" class=\"dataframe\">\n",
              "  <thead>\n",
              "    <tr style=\"text-align: right;\">\n",
              "      <th></th>\n",
              "      <th>iyear</th>\n",
              "      <th>imonth</th>\n",
              "      <th>iday</th>\n",
              "      <th>country</th>\n",
              "      <th>country_txt</th>\n",
              "      <th>region</th>\n",
              "      <th>region_txt</th>\n",
              "      <th>city</th>\n",
              "      <th>success</th>\n",
              "      <th>suicide</th>\n",
              "      <th>attacktype1</th>\n",
              "      <th>attacktype1_txt</th>\n",
              "      <th>targtype1</th>\n",
              "      <th>targtype1_txt</th>\n",
              "      <th>corp1</th>\n",
              "      <th>natlty1</th>\n",
              "      <th>natlty1_txt</th>\n",
              "      <th>gname</th>\n",
              "      <th>motive</th>\n",
              "      <th>nperps</th>\n",
              "      <th>weaptype1</th>\n",
              "      <th>weaptype1_txt</th>\n",
              "      <th>nkill</th>\n",
              "    </tr>\n",
              "  </thead>\n",
              "  <tbody>\n",
              "    <tr>\n",
              "      <th>86812</th>\n",
              "      <td>2017</td>\n",
              "      <td>12</td>\n",
              "      <td>31</td>\n",
              "      <td>160</td>\n",
              "      <td>Philippines</td>\n",
              "      <td>5</td>\n",
              "      <td>Southeast Asia</td>\n",
              "      <td>Kubentog</td>\n",
              "      <td>1</td>\n",
              "      <td>0</td>\n",
              "      <td>7</td>\n",
              "      <td>Facility/Infrastructure Attack</td>\n",
              "      <td>14</td>\n",
              "      <td>Private Citizens &amp; Property</td>\n",
              "      <td>Not Applicable</td>\n",
              "      <td>160.0</td>\n",
              "      <td>Philippines</td>\n",
              "      <td>Bangsamoro Islamic Freedom Movement (BIFM)</td>\n",
              "      <td>NaN</td>\n",
              "      <td>-99.0</td>\n",
              "      <td>8</td>\n",
              "      <td>Incendiary</td>\n",
              "      <td>0.0</td>\n",
              "    </tr>\n",
              "    <tr>\n",
              "      <th>86813</th>\n",
              "      <td>2017</td>\n",
              "      <td>12</td>\n",
              "      <td>31</td>\n",
              "      <td>92</td>\n",
              "      <td>India</td>\n",
              "      <td>6</td>\n",
              "      <td>South Asia</td>\n",
              "      <td>Imphal</td>\n",
              "      <td>0</td>\n",
              "      <td>0</td>\n",
              "      <td>3</td>\n",
              "      <td>Bombing/Explosion</td>\n",
              "      <td>2</td>\n",
              "      <td>Government (General)</td>\n",
              "      <td>Forest Department Manipur</td>\n",
              "      <td>92.0</td>\n",
              "      <td>India</td>\n",
              "      <td>Unknown</td>\n",
              "      <td>NaN</td>\n",
              "      <td>-99.0</td>\n",
              "      <td>6</td>\n",
              "      <td>Explosives</td>\n",
              "      <td>0.0</td>\n",
              "    </tr>\n",
              "    <tr>\n",
              "      <th>86814</th>\n",
              "      <td>2017</td>\n",
              "      <td>12</td>\n",
              "      <td>31</td>\n",
              "      <td>160</td>\n",
              "      <td>Philippines</td>\n",
              "      <td>5</td>\n",
              "      <td>Southeast Asia</td>\n",
              "      <td>Cotabato City</td>\n",
              "      <td>0</td>\n",
              "      <td>0</td>\n",
              "      <td>3</td>\n",
              "      <td>Bombing/Explosion</td>\n",
              "      <td>20</td>\n",
              "      <td>Unknown</td>\n",
              "      <td>Unknown</td>\n",
              "      <td>160.0</td>\n",
              "      <td>Philippines</td>\n",
              "      <td>Unknown</td>\n",
              "      <td>NaN</td>\n",
              "      <td>-99.0</td>\n",
              "      <td>6</td>\n",
              "      <td>Explosives</td>\n",
              "      <td>0.0</td>\n",
              "    </tr>\n",
              "  </tbody>\n",
              "</table>\n",
              "</div>"
            ],
            "text/plain": [
              "       iyear  imonth  iday  country  ... nperps  weaptype1 weaptype1_txt nkill\n",
              "86812   2017      12    31      160  ...  -99.0          8    Incendiary   0.0\n",
              "86813   2017      12    31       92  ...  -99.0          6    Explosives   0.0\n",
              "86814   2017      12    31      160  ...  -99.0          6    Explosives   0.0\n",
              "\n",
              "[3 rows x 23 columns]"
            ]
          },
          "metadata": {
            "tags": []
          },
          "execution_count": 35
        }
      ]
    },
    {
      "cell_type": "markdown",
      "metadata": {
        "id": "QanGHOWxdgEo"
      },
      "source": [
        "## Data from 2013 - 2017"
      ]
    },
    {
      "cell_type": "code",
      "metadata": {
        "colab": {
          "base_uri": "https://localhost:8080/",
          "height": 306
        },
        "id": "xUa2lVGldgEo",
        "outputId": "21211537-b40a-467d-d8f0-e878e7c9d412"
      },
      "source": [
        "ataquesg = data.loc[(data['iyear'].astype(int) >= 2007)]\n",
        "ataquesg = ataquesg.reset_index(drop = True)\n",
        "ataquesg.head(2)"
      ],
      "execution_count": null,
      "outputs": [
        {
          "output_type": "execute_result",
          "data": {
            "text/html": [
              "<div>\n",
              "<style scoped>\n",
              "    .dataframe tbody tr th:only-of-type {\n",
              "        vertical-align: middle;\n",
              "    }\n",
              "\n",
              "    .dataframe tbody tr th {\n",
              "        vertical-align: top;\n",
              "    }\n",
              "\n",
              "    .dataframe thead th {\n",
              "        text-align: right;\n",
              "    }\n",
              "</style>\n",
              "<table border=\"1\" class=\"dataframe\">\n",
              "  <thead>\n",
              "    <tr style=\"text-align: right;\">\n",
              "      <th></th>\n",
              "      <th>iyear</th>\n",
              "      <th>imonth</th>\n",
              "      <th>iday</th>\n",
              "      <th>country</th>\n",
              "      <th>country_txt</th>\n",
              "      <th>region</th>\n",
              "      <th>region_txt</th>\n",
              "      <th>city</th>\n",
              "      <th>success</th>\n",
              "      <th>suicide</th>\n",
              "      <th>attacktype1</th>\n",
              "      <th>attacktype1_txt</th>\n",
              "      <th>targtype1</th>\n",
              "      <th>targtype1_txt</th>\n",
              "      <th>corp1</th>\n",
              "      <th>natlty1</th>\n",
              "      <th>natlty1_txt</th>\n",
              "      <th>gname</th>\n",
              "      <th>motive</th>\n",
              "      <th>nperps</th>\n",
              "      <th>weaptype1</th>\n",
              "      <th>weaptype1_txt</th>\n",
              "      <th>nkill</th>\n",
              "    </tr>\n",
              "  </thead>\n",
              "  <tbody>\n",
              "    <tr>\n",
              "      <th>0</th>\n",
              "      <td>2010</td>\n",
              "      <td>1</td>\n",
              "      <td>1</td>\n",
              "      <td>4</td>\n",
              "      <td>Afghanistan</td>\n",
              "      <td>6</td>\n",
              "      <td>South Asia</td>\n",
              "      <td>Dwah Mande</td>\n",
              "      <td>1</td>\n",
              "      <td>0</td>\n",
              "      <td>3</td>\n",
              "      <td>Bombing/Explosion</td>\n",
              "      <td>14</td>\n",
              "      <td>Private Citizens &amp; Property</td>\n",
              "      <td>NaN</td>\n",
              "      <td>4.0</td>\n",
              "      <td>Afghanistan</td>\n",
              "      <td>Taliban</td>\n",
              "      <td>The specific motive for the attack is unknown.</td>\n",
              "      <td>-99.0</td>\n",
              "      <td>6</td>\n",
              "      <td>Explosives</td>\n",
              "      <td>4.0</td>\n",
              "    </tr>\n",
              "    <tr>\n",
              "      <th>1</th>\n",
              "      <td>2010</td>\n",
              "      <td>1</td>\n",
              "      <td>1</td>\n",
              "      <td>153</td>\n",
              "      <td>Pakistan</td>\n",
              "      <td>6</td>\n",
              "      <td>South Asia</td>\n",
              "      <td>Orakzai district</td>\n",
              "      <td>1</td>\n",
              "      <td>0</td>\n",
              "      <td>3</td>\n",
              "      <td>Bombing/Explosion</td>\n",
              "      <td>14</td>\n",
              "      <td>Private Citizens &amp; Property</td>\n",
              "      <td>NaN</td>\n",
              "      <td>153.0</td>\n",
              "      <td>Pakistan</td>\n",
              "      <td>Tehrik-i-Taliban Pakistan (TTP)</td>\n",
              "      <td>The specific motive for the attack is unknown.</td>\n",
              "      <td>-99.0</td>\n",
              "      <td>6</td>\n",
              "      <td>Explosives</td>\n",
              "      <td>0.0</td>\n",
              "    </tr>\n",
              "  </tbody>\n",
              "</table>\n",
              "</div>"
            ],
            "text/plain": [
              "   iyear  imonth  iday  country  ... nperps  weaptype1 weaptype1_txt nkill\n",
              "0   2010       1     1        4  ...  -99.0          6    Explosives   4.0\n",
              "1   2010       1     1      153  ...  -99.0          6    Explosives   0.0\n",
              "\n",
              "[2 rows x 23 columns]"
            ]
          },
          "metadata": {
            "tags": []
          },
          "execution_count": 36
        }
      ]
    },
    {
      "cell_type": "code",
      "metadata": {
        "id": "b-bQ2jLSdgEo",
        "outputId": "9f548768-265c-4a60-bfd2-496b52605902"
      },
      "source": [
        "ataquesg.region_txt.unique().tolist()"
      ],
      "execution_count": null,
      "outputs": [
        {
          "output_type": "execute_result",
          "data": {
            "text/plain": [
              "['South Asia',\n",
              " 'Middle East & North Africa',\n",
              " 'Western Europe',\n",
              " 'Sub-Saharan Africa',\n",
              " 'Eastern Europe',\n",
              " 'South America',\n",
              " 'Southeast Asia',\n",
              " 'Central Asia',\n",
              " 'Australasia & Oceania',\n",
              " 'North America',\n",
              " 'Central America & Caribbean',\n",
              " 'East Asia']"
            ]
          },
          "metadata": {
            "tags": []
          },
          "execution_count": 33
        }
      ]
    },
    {
      "cell_type": "code",
      "metadata": {
        "id": "CM3LdWLsdgEp"
      },
      "source": [
        "regions ={'South Asia': 'Asia',\n",
        " 'Middle East & North Africa': 'Africa',\n",
        " 'Western Europe': 'Europe',\n",
        " 'Sub-Saharan Africa':'Africa',\n",
        " 'Eastern Europe': 'Europe',\n",
        " 'South America': 'South America',\n",
        " 'Southeast Asia':'Asia',\n",
        " 'Central Asia' : 'Asia',\n",
        " 'Australasia & Oceania':'Oceania',\n",
        " 'North America': 'North America',\n",
        " 'Central America & Caribbean':'Central America & Caribbean',\n",
        " 'East Asia': 'Asia'}"
      ],
      "execution_count": null,
      "outputs": []
    },
    {
      "cell_type": "code",
      "metadata": {
        "id": "JnbEZ3kIdgEp"
      },
      "source": [
        "ataquesg.region_txt = ataquesg.region_txt.apply(lambda x: regions[x])"
      ],
      "execution_count": null,
      "outputs": []
    },
    {
      "cell_type": "code",
      "metadata": {
        "id": "X59ribZndgEp",
        "outputId": "2fda2dbd-40a3-463d-c01d-a608ed7d286f"
      },
      "source": [
        "ataquesg.region_txt.unique()"
      ],
      "execution_count": null,
      "outputs": [
        {
          "output_type": "execute_result",
          "data": {
            "text/plain": [
              "array(['Asia', 'Africa', 'Europe', 'South America', 'Oceania',\n",
              "       'North America', 'Central America & Caribbean'], dtype=object)"
            ]
          },
          "metadata": {
            "tags": []
          },
          "execution_count": 36
        }
      ]
    },
    {
      "cell_type": "code",
      "metadata": {
        "id": "WmXLQLmCdgEp",
        "outputId": "835055ff-a69c-45a3-a963-81b2c3a1d07b"
      },
      "source": [
        "ataquesgg = ataquesg.groupby(\"region_txt\").size()\n",
        "ataquesgg_freq = np.sort(ataquesgg)\n",
        "ataquesgg_freq"
      ],
      "execution_count": null,
      "outputs": [
        {
          "output_type": "execute_result",
          "data": {
            "text/plain": [
              "array([   30,    47,   378,  1359,  4481, 36231, 44289])"
            ]
          },
          "metadata": {
            "tags": []
          },
          "execution_count": 37
        }
      ]
    },
    {
      "cell_type": "code",
      "metadata": {
        "id": "NqjSZnyydgEp"
      },
      "source": [
        "#ataquesgg"
      ],
      "execution_count": null,
      "outputs": []
    },
    {
      "cell_type": "code",
      "metadata": {
        "id": "evBY5tWgdgEp",
        "outputId": "ebdc741a-c49a-4b2d-95d5-34421b7be0df"
      },
      "source": [
        "ataques13 = ataquesg.loc[(ataquesg['iyear'].astype(int) == 2013)]\n",
        "ataques13 = ataques13.reset_index(drop = True)\n",
        "ataques13.head(2)"
      ],
      "execution_count": null,
      "outputs": [
        {
          "output_type": "execute_result",
          "data": {
            "text/html": [
              "<div>\n",
              "<style scoped>\n",
              "    .dataframe tbody tr th:only-of-type {\n",
              "        vertical-align: middle;\n",
              "    }\n",
              "\n",
              "    .dataframe tbody tr th {\n",
              "        vertical-align: top;\n",
              "    }\n",
              "\n",
              "    .dataframe thead th {\n",
              "        text-align: right;\n",
              "    }\n",
              "</style>\n",
              "<table border=\"1\" class=\"dataframe\">\n",
              "  <thead>\n",
              "    <tr style=\"text-align: right;\">\n",
              "      <th></th>\n",
              "      <th>iyear</th>\n",
              "      <th>imonth</th>\n",
              "      <th>iday</th>\n",
              "      <th>country</th>\n",
              "      <th>country_txt</th>\n",
              "      <th>region</th>\n",
              "      <th>region_txt</th>\n",
              "      <th>city</th>\n",
              "      <th>success</th>\n",
              "      <th>suicide</th>\n",
              "      <th>...</th>\n",
              "      <th>targtype1_txt</th>\n",
              "      <th>corp1</th>\n",
              "      <th>natlty1</th>\n",
              "      <th>natlty1_txt</th>\n",
              "      <th>gname</th>\n",
              "      <th>motive</th>\n",
              "      <th>nperps</th>\n",
              "      <th>weaptype1</th>\n",
              "      <th>weaptype1_txt</th>\n",
              "      <th>nkill</th>\n",
              "    </tr>\n",
              "  </thead>\n",
              "  <tbody>\n",
              "    <tr>\n",
              "      <th>0</th>\n",
              "      <td>2013</td>\n",
              "      <td>1</td>\n",
              "      <td>1</td>\n",
              "      <td>153</td>\n",
              "      <td>Pakistan</td>\n",
              "      <td>6</td>\n",
              "      <td>Asia</td>\n",
              "      <td>Bannu</td>\n",
              "      <td>0</td>\n",
              "      <td>0</td>\n",
              "      <td>...</td>\n",
              "      <td>Police</td>\n",
              "      <td>Pakistani Police</td>\n",
              "      <td>153.0</td>\n",
              "      <td>Pakistan</td>\n",
              "      <td>Unknown</td>\n",
              "      <td>NaN</td>\n",
              "      <td>-99.0</td>\n",
              "      <td>6</td>\n",
              "      <td>Explosives</td>\n",
              "      <td>0.0</td>\n",
              "    </tr>\n",
              "    <tr>\n",
              "      <th>1</th>\n",
              "      <td>2013</td>\n",
              "      <td>1</td>\n",
              "      <td>1</td>\n",
              "      <td>95</td>\n",
              "      <td>Iraq</td>\n",
              "      <td>10</td>\n",
              "      <td>Africa</td>\n",
              "      <td>Tuz Khormato</td>\n",
              "      <td>1</td>\n",
              "      <td>0</td>\n",
              "      <td>...</td>\n",
              "      <td>Private Citizens &amp; Property</td>\n",
              "      <td>Not Applicable</td>\n",
              "      <td>95.0</td>\n",
              "      <td>Iraq</td>\n",
              "      <td>Unknown</td>\n",
              "      <td>NaN</td>\n",
              "      <td>-99.0</td>\n",
              "      <td>6</td>\n",
              "      <td>Explosives</td>\n",
              "      <td>1.0</td>\n",
              "    </tr>\n",
              "  </tbody>\n",
              "</table>\n",
              "<p>2 rows × 23 columns</p>\n",
              "</div>"
            ],
            "text/plain": [
              "   iyear  imonth  iday  country country_txt  region region_txt          city  \\\n",
              "0   2013       1     1      153    Pakistan       6       Asia         Bannu   \n",
              "1   2013       1     1       95        Iraq      10     Africa  Tuz Khormato   \n",
              "\n",
              "   success  suicide  ...                targtype1_txt             corp1  \\\n",
              "0        0        0  ...                       Police  Pakistani Police   \n",
              "1        1        0  ...  Private Citizens & Property    Not Applicable   \n",
              "\n",
              "   natlty1 natlty1_txt    gname  motive nperps weaptype1 weaptype1_txt  nkill  \n",
              "0    153.0    Pakistan  Unknown     NaN  -99.0         6    Explosives    0.0  \n",
              "1     95.0        Iraq  Unknown     NaN  -99.0         6    Explosives    1.0  \n",
              "\n",
              "[2 rows x 23 columns]"
            ]
          },
          "metadata": {
            "tags": []
          },
          "execution_count": 39
        }
      ]
    },
    {
      "cell_type": "code",
      "metadata": {
        "id": "vXuuJVOGdgEp",
        "outputId": "83a77339-924d-412a-b746-14c95810fc58"
      },
      "source": [
        "ataquesgg13 = ataques13.groupby(\"region_txt\").size()\n",
        "ataquesgg13_freq = np.sort(ataquesgg13)\n",
        "ataquesgg13_freq"
      ],
      "execution_count": null,
      "outputs": [
        {
          "output_type": "execute_result",
          "data": {
            "text/plain": [
              "array([   1,   14,   32,  182,  426, 5559, 5822])"
            ]
          },
          "metadata": {
            "tags": []
          },
          "execution_count": 40
        }
      ]
    },
    {
      "cell_type": "code",
      "metadata": {
        "id": "qUDWpkkNdgEq",
        "outputId": "5a6bad90-5ee4-4747-d312-34ad577f3f61"
      },
      "source": [
        "ataquesgg13"
      ],
      "execution_count": null,
      "outputs": [
        {
          "output_type": "execute_result",
          "data": {
            "text/plain": [
              "region_txt\n",
              "Africa                         5559\n",
              "Asia                           5822\n",
              "Central America & Caribbean      14\n",
              "Europe                          426\n",
              "North America                    32\n",
              "Oceania                           1\n",
              "South America                   182\n",
              "dtype: int64"
            ]
          },
          "metadata": {
            "tags": []
          },
          "execution_count": 41
        }
      ]
    },
    {
      "cell_type": "code",
      "metadata": {
        "id": "hN2X45PUdgEq",
        "outputId": "9b5528e5-15e4-47b7-c007-b1ee5b5fef40"
      },
      "source": [
        "ataques17 = ataquesg.loc[(ataquesg['iyear'].astype(int) == 2014)]\n",
        "ataques17 = ataques17.reset_index(drop = True)\n",
        "ataques17.head(2)"
      ],
      "execution_count": null,
      "outputs": [
        {
          "output_type": "execute_result",
          "data": {
            "text/html": [
              "<div>\n",
              "<style scoped>\n",
              "    .dataframe tbody tr th:only-of-type {\n",
              "        vertical-align: middle;\n",
              "    }\n",
              "\n",
              "    .dataframe tbody tr th {\n",
              "        vertical-align: top;\n",
              "    }\n",
              "\n",
              "    .dataframe thead th {\n",
              "        text-align: right;\n",
              "    }\n",
              "</style>\n",
              "<table border=\"1\" class=\"dataframe\">\n",
              "  <thead>\n",
              "    <tr style=\"text-align: right;\">\n",
              "      <th></th>\n",
              "      <th>iyear</th>\n",
              "      <th>imonth</th>\n",
              "      <th>iday</th>\n",
              "      <th>country</th>\n",
              "      <th>country_txt</th>\n",
              "      <th>region</th>\n",
              "      <th>region_txt</th>\n",
              "      <th>city</th>\n",
              "      <th>success</th>\n",
              "      <th>suicide</th>\n",
              "      <th>...</th>\n",
              "      <th>targtype1_txt</th>\n",
              "      <th>corp1</th>\n",
              "      <th>natlty1</th>\n",
              "      <th>natlty1_txt</th>\n",
              "      <th>gname</th>\n",
              "      <th>motive</th>\n",
              "      <th>nperps</th>\n",
              "      <th>weaptype1</th>\n",
              "      <th>weaptype1_txt</th>\n",
              "      <th>nkill</th>\n",
              "    </tr>\n",
              "  </thead>\n",
              "  <tbody>\n",
              "    <tr>\n",
              "      <th>0</th>\n",
              "      <td>2014</td>\n",
              "      <td>1</td>\n",
              "      <td>1</td>\n",
              "      <td>45</td>\n",
              "      <td>Colombia</td>\n",
              "      <td>3</td>\n",
              "      <td>South America</td>\n",
              "      <td>Convencion</td>\n",
              "      <td>1</td>\n",
              "      <td>0</td>\n",
              "      <td>...</td>\n",
              "      <td>Utilities</td>\n",
              "      <td>Cano Limon-Covenas Oil Pipeline</td>\n",
              "      <td>45.0</td>\n",
              "      <td>Colombia</td>\n",
              "      <td>National Liberation Army of Colombia (ELN)</td>\n",
              "      <td>The specific motive is unknown; however, sourc...</td>\n",
              "      <td>-99.0</td>\n",
              "      <td>6</td>\n",
              "      <td>Explosives</td>\n",
              "      <td>0.0</td>\n",
              "    </tr>\n",
              "    <tr>\n",
              "      <th>1</th>\n",
              "      <td>2014</td>\n",
              "      <td>1</td>\n",
              "      <td>1</td>\n",
              "      <td>182</td>\n",
              "      <td>Somalia</td>\n",
              "      <td>11</td>\n",
              "      <td>Africa</td>\n",
              "      <td>Mogadishu</td>\n",
              "      <td>1</td>\n",
              "      <td>1</td>\n",
              "      <td>...</td>\n",
              "      <td>Business</td>\n",
              "      <td>Jazeera Palace Hotel</td>\n",
              "      <td>182.0</td>\n",
              "      <td>Somalia</td>\n",
              "      <td>Al-Shabaab</td>\n",
              "      <td>NaN</td>\n",
              "      <td>2.0</td>\n",
              "      <td>6</td>\n",
              "      <td>Explosives</td>\n",
              "      <td>4.0</td>\n",
              "    </tr>\n",
              "  </tbody>\n",
              "</table>\n",
              "<p>2 rows × 23 columns</p>\n",
              "</div>"
            ],
            "text/plain": [
              "   iyear  imonth  iday  country country_txt  region     region_txt  \\\n",
              "0   2014       1     1       45    Colombia       3  South America   \n",
              "1   2014       1     1      182     Somalia      11         Africa   \n",
              "\n",
              "         city  success  suicide  ...  targtype1_txt  \\\n",
              "0  Convencion        1        0  ...      Utilities   \n",
              "1   Mogadishu        1        1  ...       Business   \n",
              "\n",
              "                             corp1  natlty1 natlty1_txt  \\\n",
              "0  Cano Limon-Covenas Oil Pipeline     45.0    Colombia   \n",
              "1             Jazeera Palace Hotel    182.0     Somalia   \n",
              "\n",
              "                                        gname  \\\n",
              "0  National Liberation Army of Colombia (ELN)   \n",
              "1                                  Al-Shabaab   \n",
              "\n",
              "                                              motive nperps weaptype1  \\\n",
              "0  The specific motive is unknown; however, sourc...  -99.0         6   \n",
              "1                                                NaN    2.0         6   \n",
              "\n",
              "  weaptype1_txt  nkill  \n",
              "0    Explosives    0.0  \n",
              "1    Explosives    4.0  \n",
              "\n",
              "[2 rows x 23 columns]"
            ]
          },
          "metadata": {
            "tags": []
          },
          "execution_count": 42
        }
      ]
    },
    {
      "cell_type": "code",
      "metadata": {
        "id": "P8UpORbgdgEq",
        "outputId": "8aab819b-3f2b-48b9-d291-0405a82d6d18"
      },
      "source": [
        "ataquesgg17 = ataques17.groupby(\"region_txt\").size()\n",
        "ataquesgg17_freq = np.sort(ataquesgg17)\n",
        "ataquesgg17"
      ],
      "execution_count": null,
      "outputs": [
        {
          "output_type": "execute_result",
          "data": {
            "text/plain": [
              "region_txt\n",
              "Africa                         9260\n",
              "Asia                           6132\n",
              "Central America & Caribbean       5\n",
              "Europe                         1177\n",
              "North America                    37\n",
              "Oceania                           9\n",
              "South America                   283\n",
              "dtype: int64"
            ]
          },
          "metadata": {
            "tags": []
          },
          "execution_count": 43
        }
      ]
    },
    {
      "cell_type": "markdown",
      "metadata": {
        "id": "yZ4PAaOhdgEq"
      },
      "source": [
        "### america"
      ]
    },
    {
      "cell_type": "code",
      "metadata": {
        "id": "ANR88rkqdgEq"
      },
      "source": [
        "norte = ataquesg.loc[(ataquesg['region_txt'].astype(str) == 'North America')]\n",
        "norte = norte.reset_index(drop = True)"
      ],
      "execution_count": null,
      "outputs": []
    },
    {
      "cell_type": "code",
      "metadata": {
        "id": "y-_2ukpFdgEq"
      },
      "source": [
        "sur = ataquesg.loc[(ataquesg['region_txt'].astype(str) == 'South America')]\n",
        "sur = sur.reset_index(drop = True)"
      ],
      "execution_count": null,
      "outputs": []
    },
    {
      "cell_type": "code",
      "metadata": {
        "id": "KChrrDUIdgEq"
      },
      "source": [
        "centro = ataquesg.loc[(ataquesg['region_txt'].astype(str) == 'Central America & Caribbean')]\n",
        "centro = centro.reset_index(drop = True) "
      ],
      "execution_count": null,
      "outputs": []
    },
    {
      "cell_type": "code",
      "metadata": {
        "id": "ehoAuAr_dgEq",
        "outputId": "0fc4a7a4-466f-400a-df24-69c71de8030f"
      },
      "source": [
        "america = pd.concat([norte, centro, sur])\n",
        "america.shape"
      ],
      "execution_count": null,
      "outputs": [
        {
          "output_type": "execute_result",
          "data": {
            "text/plain": [
              "(1767, 23)"
            ]
          },
          "metadata": {
            "tags": []
          },
          "execution_count": 47
        }
      ]
    },
    {
      "cell_type": "code",
      "metadata": {
        "id": "xa0rA1b_dgEs"
      },
      "source": [
        "america13 = america.loc[(america['iyear'].astype(int) == 2017)]\n",
        "america13 = america13.reset_index(drop = True)"
      ],
      "execution_count": null,
      "outputs": []
    },
    {
      "cell_type": "code",
      "metadata": {
        "id": "ziyL5r6sdgEs",
        "outputId": "a7759589-a85c-4eec-a436-bb95947e4482"
      },
      "source": [
        "america13_2 = america13.groupby(\"region_txt\").size()\n",
        "#ataquesgg17_freq = np.sort(ataquesgg17)\n",
        "america13_2"
      ],
      "execution_count": null,
      "outputs": [
        {
          "output_type": "execute_result",
          "data": {
            "text/plain": [
              "region_txt\n",
              "Central America & Caribbean      4\n",
              "North America                   97\n",
              "South America                  172\n",
              "dtype: int64"
            ]
          },
          "metadata": {
            "tags": []
          },
          "execution_count": 49
        }
      ]
    },
    {
      "cell_type": "code",
      "metadata": {
        "id": "8FThlp_ldgEs",
        "outputId": "f325755c-6d81-444d-b874-dd0765a6af3d"
      },
      "source": [
        "plt.subplots(figsize = (6, 4))\n",
        "sns.countplot('iyear', data = america, palette = 'YlGn')\n",
        "plt.xticks(rotation = 90)\n",
        "plt.title('Number Of Terrorist Activities Each Year')\n",
        "plt.savefig(\"pete4\", dpi = 100)\n",
        "plt.show()"
      ],
      "execution_count": null,
      "outputs": [
        {
          "output_type": "display_data",
          "data": {
            "image/png": "[encoded data removed]",
            "text/plain": [
              "<Figure size 432x288 with 1 Axes>"
            ]
          },
          "metadata": {
            "tags": [],
            "needs_background": "light"
          }
        }
      ]
    },
    {
      "cell_type": "code",
      "metadata": {
        "id": "O6oW0TKUdgEt",
        "outputId": "5735939e-2271-40b0-95cc-f8823f9f5be8"
      },
      "source": [
        "america2 = america13.groupby(\"region_txt\").size()\n",
        "#ataquesgg17_freq = np.sort(ataquesgg17)\n",
        "america2"
      ],
      "execution_count": null,
      "outputs": [
        {
          "output_type": "execute_result",
          "data": {
            "text/plain": [
              "region_txt\n",
              "Central America & Caribbean      4\n",
              "North America                   97\n",
              "South America                  172\n",
              "dtype: int64"
            ]
          },
          "metadata": {
            "tags": []
          },
          "execution_count": 51
        }
      ]
    },
    {
      "cell_type": "code",
      "metadata": {
        "id": "ZHJp4EsSdgEt",
        "outputId": "5b2be2dc-e895-45a5-ed48-b832f95243ab"
      },
      "source": [
        "america3 = america13.groupby(\"country_txt\").size()\n",
        "#ataquesgg17_freq = np.sort(ataquesgg17)\n",
        "america3"
      ],
      "execution_count": null,
      "outputs": [
        {
          "output_type": "execute_result",
          "data": {
            "text/plain": [
              "country_txt\n",
              "Argentina               3\n",
              "Brazil                  2\n",
              "Canada                 12\n",
              "Chile                  12\n",
              "Colombia              117\n",
              "Dominican Republic      1\n",
              "Ecuador                 3\n",
              "Honduras                1\n",
              "Jamaica                 2\n",
              "Mexico                 20\n",
              "Paraguay               10\n",
              "Peru                    8\n",
              "United States          65\n",
              "Venezuela              17\n",
              "dtype: int64"
            ]
          },
          "metadata": {
            "tags": []
          },
          "execution_count": 52
        }
      ]
    },
    {
      "cell_type": "code",
      "metadata": {
        "id": "HNP9yyk8dgEt"
      },
      "source": [
        "dr1 = {0 : 4, 1 : 97, 2 : 172}\n",
        "binary1 = {0 : 'Central America & Caribbean', 1 : 'North America ', 2 : 'South America'}"
      ],
      "execution_count": null,
      "outputs": []
    },
    {
      "cell_type": "code",
      "metadata": {
        "id": "4NHLmRxRdgEu"
      },
      "source": [
        "sr1 = pd.Series(dr1)\n",
        "binn1 = pd.Series(binary1)"
      ],
      "execution_count": null,
      "outputs": []
    },
    {
      "cell_type": "code",
      "metadata": {
        "id": "qWkAZFaqdgEu",
        "outputId": "b5171739-de4a-4585-c1a5-8f088fbca61d"
      },
      "source": [
        "df1 = pd.DataFrame({'region': binn1, 'frequency' : sr1})\n",
        "df1"
      ],
      "execution_count": null,
      "outputs": [
        {
          "output_type": "execute_result",
          "data": {
            "text/html": [
              "<div>\n",
              "<style scoped>\n",
              "    .dataframe tbody tr th:only-of-type {\n",
              "        vertical-align: middle;\n",
              "    }\n",
              "\n",
              "    .dataframe tbody tr th {\n",
              "        vertical-align: top;\n",
              "    }\n",
              "\n",
              "    .dataframe thead th {\n",
              "        text-align: right;\n",
              "    }\n",
              "</style>\n",
              "<table border=\"1\" class=\"dataframe\">\n",
              "  <thead>\n",
              "    <tr style=\"text-align: right;\">\n",
              "      <th></th>\n",
              "      <th>region</th>\n",
              "      <th>frequency</th>\n",
              "    </tr>\n",
              "  </thead>\n",
              "  <tbody>\n",
              "    <tr>\n",
              "      <th>0</th>\n",
              "      <td>Central America &amp; Caribbean</td>\n",
              "      <td>4</td>\n",
              "    </tr>\n",
              "    <tr>\n",
              "      <th>1</th>\n",
              "      <td>North America</td>\n",
              "      <td>97</td>\n",
              "    </tr>\n",
              "    <tr>\n",
              "      <th>2</th>\n",
              "      <td>South America</td>\n",
              "      <td>172</td>\n",
              "    </tr>\n",
              "  </tbody>\n",
              "</table>\n",
              "</div>"
            ],
            "text/plain": [
              "                        region  frequency\n",
              "0  Central America & Caribbean          4\n",
              "1               North America          97\n",
              "2                South America        172"
            ]
          },
          "metadata": {
            "tags": []
          },
          "execution_count": 55
        }
      ]
    },
    {
      "cell_type": "code",
      "metadata": {
        "id": "i-t_6a2EdgEu",
        "outputId": "f6432f2f-b30f-49ba-fd1a-09ed712ac37f"
      },
      "source": [
        "display(df1)"
      ],
      "execution_count": null,
      "outputs": [
        {
          "output_type": "display_data",
          "data": {
            "text/html": [
              "<div>\n",
              "<style scoped>\n",
              "    .dataframe tbody tr th:only-of-type {\n",
              "        vertical-align: middle;\n",
              "    }\n",
              "\n",
              "    .dataframe tbody tr th {\n",
              "        vertical-align: top;\n",
              "    }\n",
              "\n",
              "    .dataframe thead th {\n",
              "        text-align: right;\n",
              "    }\n",
              "</style>\n",
              "<table border=\"1\" class=\"dataframe\">\n",
              "  <thead>\n",
              "    <tr style=\"text-align: right;\">\n",
              "      <th></th>\n",
              "      <th>region</th>\n",
              "      <th>frequency</th>\n",
              "    </tr>\n",
              "  </thead>\n",
              "  <tbody>\n",
              "    <tr>\n",
              "      <th>0</th>\n",
              "      <td>Central America &amp; Caribbean</td>\n",
              "      <td>4</td>\n",
              "    </tr>\n",
              "    <tr>\n",
              "      <th>1</th>\n",
              "      <td>North America</td>\n",
              "      <td>97</td>\n",
              "    </tr>\n",
              "    <tr>\n",
              "      <th>2</th>\n",
              "      <td>South America</td>\n",
              "      <td>172</td>\n",
              "    </tr>\n",
              "  </tbody>\n",
              "</table>\n",
              "</div>"
            ],
            "text/plain": [
              "                        region  frequency\n",
              "0  Central America & Caribbean          4\n",
              "1               North America          97\n",
              "2                South America        172"
            ]
          },
          "metadata": {
            "tags": []
          }
        }
      ]
    },
    {
      "cell_type": "code",
      "metadata": {
        "id": "bTEjL-lodgEv",
        "outputId": "f615a1f7-133c-4a21-8e17-f5114b3b38bb"
      },
      "source": [
        "sns.barplot(data = df1, y = 'region', x = 'frequency', orient = 'h',palette = \"YlGnBu\")\n",
        "plt.xticks(rotation = 90)\n"
      ],
      "execution_count": null,
      "outputs": [
        {
          "output_type": "execute_result",
          "data": {
            "text/plain": [
              "(array([  0.,  25.,  50.,  75., 100., 125., 150., 175., 200.]),\n",
              " <a list of 9 Text major ticklabel objects>)"
            ]
          },
          "metadata": {
            "tags": []
          },
          "execution_count": 57
        },
        {
          "output_type": "display_data",
          "data": {
            "image/png": "[encoded data removed]",
            "text/plain": [
              "<Figure size 432x288 with 1 Axes>"
            ]
          },
          "metadata": {
            "tags": [],
            "needs_background": "light"
          }
        }
      ]
    },
    {
      "cell_type": "markdown",
      "metadata": {
        "id": "aTIaI99cdgEv"
      },
      "source": [
        "north_america = ataques10.loc[(ataques10['region_txt'].astype(str) == 'North America')]\n",
        "north_america = north_america.reset_index(drop = True)\n",
        "north_america.region_txt.unique()"
      ]
    },
    {
      "cell_type": "markdown",
      "metadata": {
        "id": "qL1WIDZ8dgEv"
      },
      "source": [
        "caribbean = ataques10.loc[(ataques10['region_txt'].astype(str) == 'Central America & Caribbean')]\n",
        "caribbean = caribbean.reset_index(drop = True)\n",
        "caribbean.region_txt.unique()"
      ]
    },
    {
      "cell_type": "markdown",
      "metadata": {
        "id": "lCHf76i4dgEv"
      },
      "source": [
        "america = pd.concat([north_america, caribbean, south_america])\n",
        "america = america.reset_index(drop = True)\n",
        "america.region_txt.unique().tolist()"
      ]
    },
    {
      "cell_type": "markdown",
      "metadata": {
        "id": "BToa2wvxdgEv"
      },
      "source": [
        "america.head(2)"
      ]
    },
    {
      "cell_type": "markdown",
      "metadata": {
        "id": "U-JYnZTHdgEv"
      },
      "source": [
        "america10 = america.loc[(america['iyear'].astype(int) == 2010)]\n",
        "america10 = america10.reset_index(drop = True)\n",
        "america10.region_txt.unique().tolist()"
      ]
    },
    {
      "cell_type": "markdown",
      "metadata": {
        "id": "Em7Gh-5tdgEv"
      },
      "source": [
        "america10.shape"
      ]
    },
    {
      "cell_type": "markdown",
      "metadata": {
        "id": "NCMZVXNadgEv"
      },
      "source": [
        "america17 = america.loc[(america['iyear'].astype(int) == 2017)]\n",
        "america17 = america17.reset_index(drop = True)\n",
        "america17.region_txt.unique().tolist()"
      ]
    },
    {
      "cell_type": "markdown",
      "metadata": {
        "id": "CkHFfVpBdgEv"
      },
      "source": [
        "america17.shape"
      ]
    },
    {
      "cell_type": "markdown",
      "metadata": {
        "id": "Fmpiz1jTdgEv"
      },
      "source": [
        "america10_atack = america.groupby(\"region_txt\").size()\n",
        "america10_atack_freq = np.sort(america10_atack)\n",
        "america10_atack_freq"
      ]
    },
    {
      "cell_type": "markdown",
      "metadata": {
        "id": "kTfsXSsXdgEv"
      },
      "source": [
        "america10_atack"
      ]
    },
    {
      "cell_type": "markdown",
      "metadata": {
        "id": "Nn_JhP63dzws"
      },
      "source": [
        "# **Bibliography**"
      ]
    },
    {
      "cell_type": "code",
      "metadata": {
        "id": "zeb9oJfxd7ki"
      },
      "source": [
        "# terrorism data set\n",
        "# https://www.kaggle.com/START-UMD/gtd\n",
        "\n",
        "# https://www.kaggle.com/hugomathien/soccer#database.sqlite\n",
        "# https://www.kaggle.com/pavanraj159/european-football-data-analysis"
      ],
      "execution_count": null,
      "outputs": []
    }
  ]
}